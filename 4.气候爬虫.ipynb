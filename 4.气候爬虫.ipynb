{
 "cells": [
  {
   "cell_type": "markdown",
   "id": "3de48135-2f32-43e0-a28c-58a029cfa4b5",
   "metadata": {},
   "source": [
    "# 气候爬虫"
   ]
  },
  {
   "cell_type": "markdown",
   "id": "fa2972b9-4452-452b-ae95-a88d053ebd2c",
   "metadata": {},
   "source": [
    "1. `面`转`点`\n",
    "2. 基于`点`经纬度爬取天气数据写入\n",
    "3. 根据近邻关系将`点`天气信息赋给`线`小节\n"
   ]
  },
  {
   "cell_type": "markdown",
   "id": "e0321df6-4f87-454d-a4e1-6bfde397096f",
   "metadata": {},
   "source": [
    "## 创建点数据"
   ]
  },
  {
   "cell_type": "code",
   "execution_count": 1,
   "id": "fb817c4d-ec35-4a1f-a358-422bd77a73e8",
   "metadata": {},
   "outputs": [],
   "source": [
    "# 导入geopandas库\n",
    "import geopandas as gpd\n",
    "import pandas as pd\n",
    "import numpy as np\n",
    "from shapely.geometry import Point"
   ]
  },
  {
   "cell_type": "code",
   "execution_count": 24,
   "id": "cc875ed9-ec29-4e35-8aa9-2c4339229022",
   "metadata": {},
   "outputs": [],
   "source": [
    "from_path = r\"E:\\\\Netease\\\\智慧城市\\\\4.处理数据\\\\rawdata\""
   ]
  },
  {
   "cell_type": "code",
   "execution_count": 25,
   "id": "8672c8ea-3cef-46b4-b2cb-5f0554477089",
   "metadata": {},
   "outputs": [],
   "source": [
    "# 读取北京市矢量边界范围\n",
    "beijing = gpd.read_file(from_path+r\"\\北京市行政边界.shp\")\n",
    "\n",
    "# 以0.5度为距离创建区域内的空间点要素\n",
    "x_coords = np.arange(115.3, 117.7, 0.05)\n",
    "y_coords = np.arange(39.4, 41.5, 0.05)\n",
    "locs = pd.DataFrame([[x, y] for x in x_coords for y in y_coords],columns=[\"longitude\",\"latitude\"])\n",
    "points = [Point(x, y) for x in x_coords for y in y_coords]"
   ]
  },
  {
   "cell_type": "code",
   "execution_count": 26,
   "id": "dbdd896f-4eaa-4eb0-aa01-a0e30d900e35",
   "metadata": {},
   "outputs": [],
   "source": [
    "# 生成裁剪\n",
    "gdf = gpd.GeoDataFrame(locs,geometry=points, crs=\"EPSG:4326\")\n",
    "gdf = gdf.overlay(beijing, how=\"intersection\")\n",
    "gdf = gdf.filter(items=[\"longitude\",\"latitude\",\"geometry\"])"
   ]
  },
  {
   "cell_type": "code",
   "execution_count": 27,
   "id": "7b5a0e57-23fe-4499-8ef0-3306e0aa0be1",
   "metadata": {},
   "outputs": [],
   "source": [
    "gdf.to_file(from_path+r\"\\北京市行政边界点.shp\")"
   ]
  },
  {
   "cell_type": "markdown",
   "id": "2922e235-9d70-4b1c-ab91-5041cb5603c6",
   "metadata": {
    "jp-MarkdownHeadingCollapsed": true,
    "tags": []
   },
   "source": [
    "### 测试"
   ]
  },
  {
   "cell_type": "code",
   "execution_count": 5,
   "id": "ab14f3a3-5080-4a62-bb18-c051233d18b0",
   "metadata": {
    "tags": []
   },
   "outputs": [
    {
     "name": "stdout",
     "output_type": "stream",
     "text": [
      "686\n"
     ]
    }
   ],
   "source": [
    "print(len(gdf))"
   ]
  },
  {
   "cell_type": "code",
   "execution_count": 28,
   "id": "2173976b-97c5-4577-9ffb-d3f430213495",
   "metadata": {
    "collapsed": true,
    "jupyter": {
     "outputs_hidden": true
    },
    "tags": []
   },
   "outputs": [
    {
     "data": {
      "text/html": [
       "<div>\n",
       "<style scoped>\n",
       "    .dataframe tbody tr th:only-of-type {\n",
       "        vertical-align: middle;\n",
       "    }\n",
       "\n",
       "    .dataframe tbody tr th {\n",
       "        vertical-align: top;\n",
       "    }\n",
       "\n",
       "    .dataframe thead th {\n",
       "        text-align: right;\n",
       "    }\n",
       "</style>\n",
       "<table border=\"1\" class=\"dataframe\">\n",
       "  <thead>\n",
       "    <tr style=\"text-align: right;\">\n",
       "      <th></th>\n",
       "      <th>longitude</th>\n",
       "      <th>latitude</th>\n",
       "      <th>geometry</th>\n",
       "    </tr>\n",
       "  </thead>\n",
       "  <tbody>\n",
       "    <tr>\n",
       "      <th>0</th>\n",
       "      <td>115.45</td>\n",
       "      <td>39.95</td>\n",
       "      <td>POINT (115.45000 39.95000)</td>\n",
       "    </tr>\n",
       "    <tr>\n",
       "      <th>1</th>\n",
       "      <td>115.45</td>\n",
       "      <td>40.00</td>\n",
       "      <td>POINT (115.45000 40.00000)</td>\n",
       "    </tr>\n",
       "    <tr>\n",
       "      <th>2</th>\n",
       "      <td>115.50</td>\n",
       "      <td>39.70</td>\n",
       "      <td>POINT (115.50000 39.70000)</td>\n",
       "    </tr>\n",
       "    <tr>\n",
       "      <th>3</th>\n",
       "      <td>115.50</td>\n",
       "      <td>39.75</td>\n",
       "      <td>POINT (115.50000 39.75000)</td>\n",
       "    </tr>\n",
       "    <tr>\n",
       "      <th>4</th>\n",
       "      <td>115.50</td>\n",
       "      <td>39.95</td>\n",
       "      <td>POINT (115.50000 39.95000)</td>\n",
       "    </tr>\n",
       "  </tbody>\n",
       "</table>\n",
       "</div>"
      ],
      "text/plain": [
       "   longitude  latitude                    geometry\n",
       "0     115.45     39.95  POINT (115.45000 39.95000)\n",
       "1     115.45     40.00  POINT (115.45000 40.00000)\n",
       "2     115.50     39.70  POINT (115.50000 39.70000)\n",
       "3     115.50     39.75  POINT (115.50000 39.75000)\n",
       "4     115.50     39.95  POINT (115.50000 39.95000)"
      ]
     },
     "execution_count": 28,
     "metadata": {},
     "output_type": "execute_result"
    }
   ],
   "source": [
    "gdf.head()"
   ]
  },
  {
   "cell_type": "code",
   "execution_count": 7,
   "id": "e23fd963-5b6b-428d-ad39-371d4b21d06f",
   "metadata": {
    "collapsed": true,
    "jupyter": {
     "outputs_hidden": true
    },
    "tags": []
   },
   "outputs": [
    {
     "data": {
      "text/plain": [
       "<Axes: >"
      ]
     },
     "execution_count": 7,
     "metadata": {},
     "output_type": "execute_result"
    },
    {
     "data": {
      "image/png": "[encoded data removed]",
      "text/plain": [
       "<Figure size 640x480 with 1 Axes>"
      ]
     },
     "metadata": {},
     "output_type": "display_data"
    }
   ],
   "source": [
    "import matplotlib.pyplot as plt\n",
    "ax = plt.subplot()\n",
    "plt.plot()\n",
    "beijing.plot(ax=ax,color=\"none\")\n",
    "gdf.plot(ax=ax)"
   ]
  },
  {
   "cell_type": "markdown",
   "id": "0a02d9cf-91bf-4444-8094-22d09a46635b",
   "metadata": {
    "tags": []
   },
   "source": [
    "## 基于点经纬度爬取天气数据"
   ]
  },
  {
   "cell_type": "code",
   "execution_count": 1,
   "id": "67a66423-dfee-48d6-937e-be645e28236b",
   "metadata": {},
   "outputs": [],
   "source": [
    "# 导入requests库和pandas库\n",
    "import requests\n",
    "import pandas as pd\n",
    "import geopandas as gpd"
   ]
  },
  {
   "cell_type": "code",
   "execution_count": 2,
   "id": "58953cf2-7f3d-41cb-b7e6-58503ea708db",
   "metadata": {},
   "outputs": [],
   "source": [
    "from_path = r\"E:\\\\Netease\\\\智慧城市\\\\4.处理数据\\\\rawdata\""
   ]
  },
  {
   "cell_type": "code",
   "execution_count": 19,
   "id": "cada8a37-f9ea-4d66-8685-d5308297fe51",
   "metadata": {},
   "outputs": [],
   "source": [
    "# 读取元数据\n",
    "df = gpd.read_file(from_path+r\"\\北京市行政边界点.shp\")"
   ]
  },
  {
   "cell_type": "code",
   "execution_count": 4,
   "id": "f2712fd7-0dfc-408e-9d33-506faeb493c8",
   "metadata": {},
   "outputs": [
    {
     "data": {
      "text/html": [
       "<div>\n",
       "<style scoped>\n",
       "    .dataframe tbody tr th:only-of-type {\n",
       "        vertical-align: middle;\n",
       "    }\n",
       "\n",
       "    .dataframe tbody tr th {\n",
       "        vertical-align: top;\n",
       "    }\n",
       "\n",
       "    .dataframe thead th {\n",
       "        text-align: right;\n",
       "    }\n",
       "</style>\n",
       "<table border=\"1\" class=\"dataframe\">\n",
       "  <thead>\n",
       "    <tr style=\"text-align: right;\">\n",
       "      <th></th>\n",
       "      <th>longitude</th>\n",
       "      <th>latitude</th>\n",
       "      <th>geometry</th>\n",
       "    </tr>\n",
       "  </thead>\n",
       "  <tbody>\n",
       "    <tr>\n",
       "      <th>0</th>\n",
       "      <td>115.45</td>\n",
       "      <td>39.95</td>\n",
       "      <td>POINT (115.45000 39.95000)</td>\n",
       "    </tr>\n",
       "    <tr>\n",
       "      <th>1</th>\n",
       "      <td>115.45</td>\n",
       "      <td>40.00</td>\n",
       "      <td>POINT (115.45000 40.00000)</td>\n",
       "    </tr>\n",
       "    <tr>\n",
       "      <th>2</th>\n",
       "      <td>115.50</td>\n",
       "      <td>39.70</td>\n",
       "      <td>POINT (115.50000 39.70000)</td>\n",
       "    </tr>\n",
       "    <tr>\n",
       "      <th>3</th>\n",
       "      <td>115.50</td>\n",
       "      <td>39.75</td>\n",
       "      <td>POINT (115.50000 39.75000)</td>\n",
       "    </tr>\n",
       "    <tr>\n",
       "      <th>4</th>\n",
       "      <td>115.50</td>\n",
       "      <td>39.95</td>\n",
       "      <td>POINT (115.50000 39.95000)</td>\n",
       "    </tr>\n",
       "  </tbody>\n",
       "</table>\n",
       "</div>"
      ],
      "text/plain": [
       "   longitude  latitude                    geometry\n",
       "0     115.45     39.95  POINT (115.45000 39.95000)\n",
       "1     115.45     40.00  POINT (115.45000 40.00000)\n",
       "2     115.50     39.70  POINT (115.50000 39.70000)\n",
       "3     115.50     39.75  POINT (115.50000 39.75000)\n",
       "4     115.50     39.95  POINT (115.50000 39.95000)"
      ]
     },
     "execution_count": 4,
     "metadata": {},
     "output_type": "execute_result"
    }
   ],
   "source": [
    "df.head()"
   ]
  },
  {
   "cell_type": "code",
   "execution_count": 5,
   "id": "ebe181d3-f511-459e-896b-0e79255fe9e2",
   "metadata": {},
   "outputs": [],
   "source": [
    "# 定义气象信息储存表、提取要素表\n",
    "weather_lst1 = []\n",
    "weather_lst2 = []\n",
    "weather_lst3 = []\n",
    "name_lst = [\"tempMax\",\"tempMin\",\"textDay\",\"windScaleDay\",\"humidity\",\"pressure\"]\n",
    "n = len(name_lst)"
   ]
  },
  {
   "cell_type": "markdown",
   "id": "338a4691-53da-462f-a992-ecb0263a683f",
   "metadata": {
    "jupyter": {
     "source_hidden": true
    },
    "tags": []
   },
   "source": [
    "提示\n",
    "- daily.fxDate 预报日期\n",
    "- daily.tempMax 预报当天最高温度\n",
    "- daily.tempMin 预报当天最低温度\n",
    "- daily.iconDay 预报白天天气状况的图标代码，图标可通过天气状况和图标下载\n",
    "- daily.textDay 预报白天天气状况文字描述，包括阴晴雨雪等天气状态的描述\n",
    "- daily.iconNight 预报夜间天气状况的图标代码，图标可通过天气状况和图标下载\n",
    "- daily.textNight 预报晚间天气状况文字描述，包括阴晴雨雪等天气状态的描述\n",
    "- daily.wind360Day 预报白天风向360角度\n",
    "- daily.windDirDay 预报白天风向\n",
    "- daily.windScaleDay 预报白天风力等级\n",
    "- daily.windSpeedDay 预报白天风速，公里/小时\n",
    "- daily.wind360Night 预报夜间风向360角度\n",
    "- daily.windDirNight 预报夜间当天风向\n",
    "- daily.windScaleNight 预报夜间风力等级\n",
    "- daily.windSpeedNight 预报夜间风速，公里/小时\n",
    "- daily.precip 预报当天总降水量，默认单位：毫米\n",
    "- daily.humidity 相对湿度，百分比数值\n",
    "- daily.pressure 大气压强，默认单位：百帕"
   ]
  },
  {
   "cell_type": "code",
   "execution_count": 6,
   "id": "c333f912-9280-4a22-8a4e-177019b5f515",
   "metadata": {},
   "outputs": [],
   "source": [
    "# 遍历dataframe中的每一行\n",
    "for index, row in df.iterrows():\n",
    "    # 设置请求的url和参数\n",
    "    url = \"https://devapi.qweather.com/v7/grid-weather/3d\"\n",
    "    params = {\n",
    "        \"location\": f\"{row['longitude']},{row['latitude']}\", # 经纬度坐标\n",
    "        \"key\": \"a84587e8ba3243e5878033aed1201d76\" # 用户认证key\n",
    "    }\n",
    "\n",
    "    # 发送get请求，获取响应\n",
    "    response = requests.get(url, params=params)\n",
    "\n",
    "    # 判断响应状态码是否为200，表示成功\n",
    "    if response.status_code == 200:\n",
    "        # 获取响应的json数据\n",
    "        data = response.json()\n",
    "        # 将天气预报信息添加到列表中\n",
    "        weather_lst1.append(data[\"daily\"][0])\n",
    "        weather_lst2.append(data[\"daily\"][1])\n",
    "        weather_lst3.append(data[\"daily\"][2])\n",
    "        print(\"进度：{}/{}\".format(index,'686'),end=\"\\r\")\n",
    "    else:\n",
    "        # 打印错误信息\n",
    "        print(\"请求失败，状态码为\", response.status_code)"
   ]
  },
  {
   "cell_type": "code",
   "execution_count": 20,
   "id": "ebc11829-dff9-4c26-b50b-69da59d73678",
   "metadata": {},
   "outputs": [],
   "source": [
    "# 使用pandas的insert()函数将列表中的气象信息插入到dataframe中\n",
    "for i,i_name in enumerate(name_lst):\n",
    "    df[i_name[:7]+\"1\"] = [w[i_name] for w in weather_lst1]\n",
    "for i,i_name in enumerate(name_lst):\n",
    "    df[i_name[:7]+\"2\"] = [w[i_name] for w in weather_lst1]\n",
    "for i,i_name in enumerate(name_lst):\n",
    "    df[i_name[:7]+\"3\"] = [w[i_name] for w in weather_lst1]"
   ]
  },
  {
   "cell_type": "code",
   "execution_count": 23,
   "id": "f57647ff-6a28-4972-bb74-d5bc59c0b27c",
   "metadata": {
    "tags": []
   },
   "outputs": [],
   "source": [
    "# 打印修改后的dataframe\n",
    "df.to_file(from_path+r\"\\北京市行政边界-气候.shp\")"
   ]
  },
  {
   "cell_type": "markdown",
   "id": "6579bc79-c549-43b1-9cbd-80bbeffca8ea",
   "metadata": {},
   "source": [
    "### 测试"
   ]
  },
  {
   "cell_type": "code",
   "execution_count": 21,
   "id": "2ef7063a-a49a-443a-9bd3-810b99139926",
   "metadata": {
    "collapsed": true,
    "jupyter": {
     "outputs_hidden": true
    },
    "tags": []
   },
   "outputs": [
    {
     "data": {
      "text/html": [
       "<div>\n",
       "<style scoped>\n",
       "    .dataframe tbody tr th:only-of-type {\n",
       "        vertical-align: middle;\n",
       "    }\n",
       "\n",
       "    .dataframe tbody tr th {\n",
       "        vertical-align: top;\n",
       "    }\n",
       "\n",
       "    .dataframe thead th {\n",
       "        text-align: right;\n",
       "    }\n",
       "</style>\n",
       "<table border=\"1\" class=\"dataframe\">\n",
       "  <thead>\n",
       "    <tr style=\"text-align: right;\">\n",
       "      <th></th>\n",
       "      <th>longitude</th>\n",
       "      <th>latitude</th>\n",
       "      <th>geometry</th>\n",
       "      <th>tempMax1</th>\n",
       "      <th>tempMin1</th>\n",
       "      <th>textDay1</th>\n",
       "      <th>windSca1</th>\n",
       "      <th>humidit1</th>\n",
       "      <th>pressur1</th>\n",
       "      <th>tempMax2</th>\n",
       "      <th>...</th>\n",
       "      <th>textDay2</th>\n",
       "      <th>windSca2</th>\n",
       "      <th>humidit2</th>\n",
       "      <th>pressur2</th>\n",
       "      <th>tempMax3</th>\n",
       "      <th>tempMin3</th>\n",
       "      <th>textDay3</th>\n",
       "      <th>windSca3</th>\n",
       "      <th>humidit3</th>\n",
       "      <th>pressur3</th>\n",
       "    </tr>\n",
       "  </thead>\n",
       "  <tbody>\n",
       "    <tr>\n",
       "      <th>0</th>\n",
       "      <td>115.45</td>\n",
       "      <td>39.95</td>\n",
       "      <td>POINT (115.45000 39.95000)</td>\n",
       "      <td>20</td>\n",
       "      <td>8</td>\n",
       "      <td>晴</td>\n",
       "      <td>1-2</td>\n",
       "      <td>59</td>\n",
       "      <td>885</td>\n",
       "      <td>20</td>\n",
       "      <td>...</td>\n",
       "      <td>晴</td>\n",
       "      <td>1-2</td>\n",
       "      <td>59</td>\n",
       "      <td>885</td>\n",
       "      <td>20</td>\n",
       "      <td>8</td>\n",
       "      <td>晴</td>\n",
       "      <td>1-2</td>\n",
       "      <td>59</td>\n",
       "      <td>885</td>\n",
       "    </tr>\n",
       "    <tr>\n",
       "      <th>1</th>\n",
       "      <td>115.45</td>\n",
       "      <td>40.00</td>\n",
       "      <td>POINT (115.45000 40.00000)</td>\n",
       "      <td>19</td>\n",
       "      <td>8</td>\n",
       "      <td>晴</td>\n",
       "      <td>1-2</td>\n",
       "      <td>56</td>\n",
       "      <td>862</td>\n",
       "      <td>19</td>\n",
       "      <td>...</td>\n",
       "      <td>晴</td>\n",
       "      <td>1-2</td>\n",
       "      <td>56</td>\n",
       "      <td>862</td>\n",
       "      <td>19</td>\n",
       "      <td>8</td>\n",
       "      <td>晴</td>\n",
       "      <td>1-2</td>\n",
       "      <td>56</td>\n",
       "      <td>862</td>\n",
       "    </tr>\n",
       "    <tr>\n",
       "      <th>2</th>\n",
       "      <td>115.50</td>\n",
       "      <td>39.70</td>\n",
       "      <td>POINT (115.50000 39.70000)</td>\n",
       "      <td>22</td>\n",
       "      <td>10</td>\n",
       "      <td>晴</td>\n",
       "      <td>1-2</td>\n",
       "      <td>60</td>\n",
       "      <td>926</td>\n",
       "      <td>22</td>\n",
       "      <td>...</td>\n",
       "      <td>晴</td>\n",
       "      <td>1-2</td>\n",
       "      <td>60</td>\n",
       "      <td>926</td>\n",
       "      <td>22</td>\n",
       "      <td>10</td>\n",
       "      <td>晴</td>\n",
       "      <td>1-2</td>\n",
       "      <td>60</td>\n",
       "      <td>926</td>\n",
       "    </tr>\n",
       "    <tr>\n",
       "      <th>3</th>\n",
       "      <td>115.50</td>\n",
       "      <td>39.75</td>\n",
       "      <td>POINT (115.50000 39.75000)</td>\n",
       "      <td>22</td>\n",
       "      <td>9</td>\n",
       "      <td>晴</td>\n",
       "      <td>1-2</td>\n",
       "      <td>69</td>\n",
       "      <td>939</td>\n",
       "      <td>22</td>\n",
       "      <td>...</td>\n",
       "      <td>晴</td>\n",
       "      <td>1-2</td>\n",
       "      <td>69</td>\n",
       "      <td>939</td>\n",
       "      <td>22</td>\n",
       "      <td>9</td>\n",
       "      <td>晴</td>\n",
       "      <td>1-2</td>\n",
       "      <td>69</td>\n",
       "      <td>939</td>\n",
       "    </tr>\n",
       "    <tr>\n",
       "      <th>4</th>\n",
       "      <td>115.50</td>\n",
       "      <td>39.95</td>\n",
       "      <td>POINT (115.50000 39.95000)</td>\n",
       "      <td>20</td>\n",
       "      <td>8</td>\n",
       "      <td>晴</td>\n",
       "      <td>1-2</td>\n",
       "      <td>59</td>\n",
       "      <td>885</td>\n",
       "      <td>20</td>\n",
       "      <td>...</td>\n",
       "      <td>晴</td>\n",
       "      <td>1-2</td>\n",
       "      <td>59</td>\n",
       "      <td>885</td>\n",
       "      <td>20</td>\n",
       "      <td>8</td>\n",
       "      <td>晴</td>\n",
       "      <td>1-2</td>\n",
       "      <td>59</td>\n",
       "      <td>885</td>\n",
       "    </tr>\n",
       "    <tr>\n",
       "      <th>...</th>\n",
       "      <td>...</td>\n",
       "      <td>...</td>\n",
       "      <td>...</td>\n",
       "      <td>...</td>\n",
       "      <td>...</td>\n",
       "      <td>...</td>\n",
       "      <td>...</td>\n",
       "      <td>...</td>\n",
       "      <td>...</td>\n",
       "      <td>...</td>\n",
       "      <td>...</td>\n",
       "      <td>...</td>\n",
       "      <td>...</td>\n",
       "      <td>...</td>\n",
       "      <td>...</td>\n",
       "      <td>...</td>\n",
       "      <td>...</td>\n",
       "      <td>...</td>\n",
       "      <td>...</td>\n",
       "      <td>...</td>\n",
       "      <td>...</td>\n",
       "    </tr>\n",
       "    <tr>\n",
       "      <th>681</th>\n",
       "      <td>117.35</td>\n",
       "      <td>40.20</td>\n",
       "      <td>POINT (117.35000 40.20000)</td>\n",
       "      <td>24</td>\n",
       "      <td>9</td>\n",
       "      <td>晴</td>\n",
       "      <td>1-2</td>\n",
       "      <td>62</td>\n",
       "      <td>980</td>\n",
       "      <td>24</td>\n",
       "      <td>...</td>\n",
       "      <td>晴</td>\n",
       "      <td>1-2</td>\n",
       "      <td>62</td>\n",
       "      <td>980</td>\n",
       "      <td>24</td>\n",
       "      <td>9</td>\n",
       "      <td>晴</td>\n",
       "      <td>1-2</td>\n",
       "      <td>62</td>\n",
       "      <td>980</td>\n",
       "    </tr>\n",
       "    <tr>\n",
       "      <th>682</th>\n",
       "      <td>117.35</td>\n",
       "      <td>40.60</td>\n",
       "      <td>POINT (117.35000 40.60000)</td>\n",
       "      <td>25</td>\n",
       "      <td>8</td>\n",
       "      <td>晴</td>\n",
       "      <td>1-2</td>\n",
       "      <td>58</td>\n",
       "      <td>967</td>\n",
       "      <td>25</td>\n",
       "      <td>...</td>\n",
       "      <td>晴</td>\n",
       "      <td>1-2</td>\n",
       "      <td>58</td>\n",
       "      <td>967</td>\n",
       "      <td>25</td>\n",
       "      <td>8</td>\n",
       "      <td>晴</td>\n",
       "      <td>1-2</td>\n",
       "      <td>58</td>\n",
       "      <td>967</td>\n",
       "    </tr>\n",
       "    <tr>\n",
       "      <th>683</th>\n",
       "      <td>117.35</td>\n",
       "      <td>40.65</td>\n",
       "      <td>POINT (117.35000 40.65000)</td>\n",
       "      <td>24</td>\n",
       "      <td>7</td>\n",
       "      <td>晴</td>\n",
       "      <td>1-2</td>\n",
       "      <td>58</td>\n",
       "      <td>956</td>\n",
       "      <td>24</td>\n",
       "      <td>...</td>\n",
       "      <td>晴</td>\n",
       "      <td>1-2</td>\n",
       "      <td>58</td>\n",
       "      <td>956</td>\n",
       "      <td>24</td>\n",
       "      <td>7</td>\n",
       "      <td>晴</td>\n",
       "      <td>1-2</td>\n",
       "      <td>58</td>\n",
       "      <td>956</td>\n",
       "    </tr>\n",
       "    <tr>\n",
       "      <th>684</th>\n",
       "      <td>117.40</td>\n",
       "      <td>40.60</td>\n",
       "      <td>POINT (117.40000 40.60000)</td>\n",
       "      <td>24</td>\n",
       "      <td>7</td>\n",
       "      <td>晴</td>\n",
       "      <td>1-2</td>\n",
       "      <td>56</td>\n",
       "      <td>950</td>\n",
       "      <td>24</td>\n",
       "      <td>...</td>\n",
       "      <td>晴</td>\n",
       "      <td>1-2</td>\n",
       "      <td>56</td>\n",
       "      <td>950</td>\n",
       "      <td>24</td>\n",
       "      <td>7</td>\n",
       "      <td>晴</td>\n",
       "      <td>1-2</td>\n",
       "      <td>56</td>\n",
       "      <td>950</td>\n",
       "    </tr>\n",
       "    <tr>\n",
       "      <th>685</th>\n",
       "      <td>117.40</td>\n",
       "      <td>40.65</td>\n",
       "      <td>POINT (117.40000 40.65000)</td>\n",
       "      <td>24</td>\n",
       "      <td>7</td>\n",
       "      <td>晴</td>\n",
       "      <td>1-2</td>\n",
       "      <td>58</td>\n",
       "      <td>950</td>\n",
       "      <td>24</td>\n",
       "      <td>...</td>\n",
       "      <td>晴</td>\n",
       "      <td>1-2</td>\n",
       "      <td>58</td>\n",
       "      <td>950</td>\n",
       "      <td>24</td>\n",
       "      <td>7</td>\n",
       "      <td>晴</td>\n",
       "      <td>1-2</td>\n",
       "      <td>58</td>\n",
       "      <td>950</td>\n",
       "    </tr>\n",
       "  </tbody>\n",
       "</table>\n",
       "<p>686 rows × 21 columns</p>\n",
       "</div>"
      ],
      "text/plain": [
       "     longitude  latitude                    geometry tempMax1 tempMin1   \n",
       "0       115.45     39.95  POINT (115.45000 39.95000)       20        8  \\\n",
       "1       115.45     40.00  POINT (115.45000 40.00000)       19        8   \n",
       "2       115.50     39.70  POINT (115.50000 39.70000)       22       10   \n",
       "3       115.50     39.75  POINT (115.50000 39.75000)       22        9   \n",
       "4       115.50     39.95  POINT (115.50000 39.95000)       20        8   \n",
       "..         ...       ...                         ...      ...      ...   \n",
       "681     117.35     40.20  POINT (117.35000 40.20000)       24        9   \n",
       "682     117.35     40.60  POINT (117.35000 40.60000)       25        8   \n",
       "683     117.35     40.65  POINT (117.35000 40.65000)       24        7   \n",
       "684     117.40     40.60  POINT (117.40000 40.60000)       24        7   \n",
       "685     117.40     40.65  POINT (117.40000 40.65000)       24        7   \n",
       "\n",
       "    textDay1 windSca1 humidit1 pressur1 tempMax2  ... textDay2 windSca2   \n",
       "0          晴      1-2       59      885       20  ...        晴      1-2  \\\n",
       "1          晴      1-2       56      862       19  ...        晴      1-2   \n",
       "2          晴      1-2       60      926       22  ...        晴      1-2   \n",
       "3          晴      1-2       69      939       22  ...        晴      1-2   \n",
       "4          晴      1-2       59      885       20  ...        晴      1-2   \n",
       "..       ...      ...      ...      ...      ...  ...      ...      ...   \n",
       "681        晴      1-2       62      980       24  ...        晴      1-2   \n",
       "682        晴      1-2       58      967       25  ...        晴      1-2   \n",
       "683        晴      1-2       58      956       24  ...        晴      1-2   \n",
       "684        晴      1-2       56      950       24  ...        晴      1-2   \n",
       "685        晴      1-2       58      950       24  ...        晴      1-2   \n",
       "\n",
       "    humidit2 pressur2 tempMax3 tempMin3 textDay3 windSca3 humidit3 pressur3  \n",
       "0         59      885       20        8        晴      1-2       59      885  \n",
       "1         56      862       19        8        晴      1-2       56      862  \n",
       "2         60      926       22       10        晴      1-2       60      926  \n",
       "3         69      939       22        9        晴      1-2       69      939  \n",
       "4         59      885       20        8        晴      1-2       59      885  \n",
       "..       ...      ...      ...      ...      ...      ...      ...      ...  \n",
       "681       62      980       24        9        晴      1-2       62      980  \n",
       "682       58      967       25        8        晴      1-2       58      967  \n",
       "683       58      956       24        7        晴      1-2       58      956  \n",
       "684       56      950       24        7        晴      1-2       56      950  \n",
       "685       58      950       24        7        晴      1-2       58      950  \n",
       "\n",
       "[686 rows x 21 columns]"
      ]
     },
     "execution_count": 21,
     "metadata": {},
     "output_type": "execute_result"
    }
   ],
   "source": [
    "df"
   ]
  },
  {
   "cell_type": "markdown",
   "id": "b8f2c525-9025-461f-9901-04adedf01ef7",
   "metadata": {},
   "source": [
    "## 根据近邻关系将天气信息赋给小节"
   ]
  },
  {
   "cell_type": "code",
   "execution_count": 29,
   "id": "8290a55e-53cb-46a1-a1a4-5c2cada1d034",
   "metadata": {},
   "outputs": [],
   "source": [
    "name_lst = ['tempMax1', 'tempMin1', 'textDay1', 'windSca1', 'humidit1', 'pressur1', 'tempMax2', 'tempMin2', 'textDay2', 'windSca2', 'humidit2', 'pressur2', 'tempMax3', 'tempMin3', 'textDay3', 'windSca3', 'humidit3', 'pressur3']"
   ]
  },
  {
   "cell_type": "code",
   "execution_count": null,
   "id": "79f875e9-ce8d-44bb-a6a4-8880b9f7f434",
   "metadata": {},
   "outputs": [],
   "source": [
    "import geopandas as gpd\n",
    "import shapely.geometry\n",
    "import shapely.ops\n",
    "\n",
    "# 读取点要素和线要素\n",
    "point_df = gpd.GeoDataFrame.from_features(r\"E:\\\\Netease\\\\智慧城市\\\\4.处理数据\\\\rawdata\\\\北京市行政边界-气候.shp\") # point_features是一个包含点要素的可迭代对象\n",
    "line_df = gpd.GeoDataFrame.from_features(r\"\")  # line_features是一个包含线要素的可迭代对象\n",
    "\n",
    "# 获取每个点的坐标\n",
    "point_coords = [shapely.geometry.Point(xy) for xy in zip(point_df.geometry.x, point_df.geometry.y)]\n",
    "\n",
    "# 遍历每条线，找到最近邻的点，将点要素的属性赋值给线要素\n",
    "for i, line in line_df.iterrows():\n",
    "    nearest_point = shapely.ops.nearest_points(line.geometry, point_coords)[1] # nearest_points返回一个元组，第一个元素是输入几何对象，第二个元素是最近邻几何对象\n",
    "    nearest_index = point_coords.index(nearest_point) # 找到最近邻点在点要素列表中的索引\n",
    "    for typename in name_lst:\n",
    "        line_df.loc[i, typename] = point_df.loc[nearest_index, typename] # 将点要素的属性赋值给线要素"
   ]
  }
 ],
 "metadata": {
  "kernelspec": {
   "display_name": "Python 3 (ipykernel)",
   "language": "python",
   "name": "python3"
  },
  "language_info": {
   "codemirror_mode": {
    "name": "ipython",
    "version": 3
   },
   "file_extension": ".py",
   "mimetype": "text/x-python",
   "name": "python",
   "nbconvert_exporter": "python",
   "pygments_lexer": "ipython3",
   "version": "3.11.3"
  },
  "toc-autonumbering": true
 },
 "nbformat": 4,
 "nbformat_minor": 5
}
