{
 "cells": [
  {
   "cell_type": "markdown",
   "metadata": {},
   "source": [
    "# 数据合并与分类与优化\n",
    "\n",
    "1. 合并北京线数据\n",
    "2. 去除杂线\n",
    "3. 去除距离较远的误差点"
   ]
  },
  {
   "cell_type": "code",
   "execution_count": 1,
   "metadata": {},
   "outputs": [],
   "source": [
    "import matplotlib.pyplot as plt\n",
    "import geopandas as gpd\n",
    "import pandas as pd\n",
    "import os,glob"
   ]
  },
  {
   "cell_type": "markdown",
   "metadata": {},
   "source": [
    "## 一、合并数据"
   ]
  },
  {
   "cell_type": "code",
   "execution_count": 3,
   "metadata": {},
   "outputs": [],
   "source": [
    "from_path = r\"E:\\Netease\\智慧城市\\4.处理数据\\workingdata\"\n",
    "to_path = r\"E:\\Netease\\智慧城市\\4.处理数据\\workingdata2\""
   ]
  },
  {
   "cell_type": "code",
   "execution_count": 5,
   "metadata": {},
   "outputs": [
    {
     "name": "stdout",
     "output_type": "stream",
     "text": [
      "['E:\\\\Netease\\\\智慧城市\\\\4.处理数据\\\\workingdata\\\\track_zj_0.shp', 'E:\\\\Netease\\\\智慧城市\\\\4.处理数据\\\\workingdata\\\\track_zj_1.shp', 'E:\\\\Netease\\\\智慧城市\\\\4.处理数据\\\\workingdata\\\\track_zj_11.shp', 'E:\\\\Netease\\\\智慧城市\\\\4.处理数据\\\\workingdata\\\\track_zj_13.shp', 'E:\\\\Netease\\\\智慧城市\\\\4.处理数据\\\\workingdata\\\\track_zj_15.shp', 'E:\\\\Netease\\\\智慧城市\\\\4.处理数据\\\\workingdata\\\\track_zj_2.shp', 'E:\\\\Netease\\\\智慧城市\\\\4.处理数据\\\\workingdata\\\\track_zj_28.shp', 'E:\\\\Netease\\\\智慧城市\\\\4.处理数据\\\\workingdata\\\\track_zj_3.shp', 'E:\\\\Netease\\\\智慧城市\\\\4.处理数据\\\\workingdata\\\\track_zj_4.shp', 'E:\\\\Netease\\\\智慧城市\\\\4.处理数据\\\\workingdata\\\\track_zj_5.shp']\n"
     ]
    }
   ],
   "source": [
    "file_lst = glob.glob(from_path+r\"\\track_zj*.shp\")\n",
    "print(file_lst)"
   ]
  },
  {
   "cell_type": "code",
   "execution_count": 11,
   "metadata": {},
   "outputs": [
    {
     "name": "stdout",
     "output_type": "stream",
     "text": [
      "16280\n"
     ]
    }
   ],
   "source": [
    "df_sum = pd.concat([gpd.read_file(file) for file in file_lst])\n",
    "print(len(df_sum)) #李羿蒲同学数据包括45576条数据点、816745个驻足点/照片\n",
    "df_sum.to_file(to_path+r\"\\track_all.shp\", encoding = 'utf-8')"
   ]
  },
  {
   "cell_type": "markdown",
   "metadata": {},
   "source": [
    "## 二、分类数据"
   ]
  },
  {
   "cell_type": "code",
   "execution_count": null,
   "metadata": {},
   "outputs": [],
   "source": [
    "from_path = r\"E:\\Netease\\智慧城市\\4.处理数据\\workingdata2\"\n",
    "to_path = r\"E:\\Netease\\智慧城市\\4.处理数据\\workingdata3\"\n",
    "i_lst = []"
   ]
  },
  {
   "cell_type": "code",
   "execution_count": null,
   "metadata": {},
   "outputs": [],
   "source": [
    "df_sum = gpd.read_file(from_path+r\"\\track_all.shp\")\n",
    "i_lst = df_sum[\"triptype\"]"
   ]
  },
  {
   "cell_type": "code",
   "execution_count": null,
   "metadata": {},
   "outputs": [],
   "source": [
    "for i in i_lst:\n",
    "    df = df_sum[df[\"triptype\"]]"
   ]
  }
 ],
 "metadata": {
  "kernelspec": {
   "display_name": "Python 3 (ipykernel)",
   "language": "python",
   "name": "python3"
  },
  "language_info": {
   "codemirror_mode": {
    "name": "ipython",
    "version": 3
   },
   "file_extension": ".py",
   "mimetype": "text/x-python",
   "name": "python",
   "nbconvert_exporter": "python",
   "pygments_lexer": "ipython3",
   "version": "3.11.1"
  },
  "toc-autonumbering": true
 },
 "nbformat": 4,
 "nbformat_minor": 4
}
