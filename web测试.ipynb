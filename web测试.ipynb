{
 "cells": [
  {
   "cell_type": "markdown",
   "id": "a80af273-f82b-4432-865a-5fd8fdc4b185",
   "metadata": {},
   "source": [
    "# web测试文档\n",
    "\n",
    "> 片段查看：运行即可\n",
    "> \n",
    "> 总体查看：http://localhost:8888/voila"
   ]
  },
  {
   "cell_type": "code",
   "execution_count": 2,
   "id": "b7779f0b-c2b5-4d8a-9d79-7e8d8a975fb2",
   "metadata": {},
   "outputs": [],
   "source": [
    "%matplotlib widget\n",
    "import ipywidgets as widgets\n",
    "import pandas as pd\n",
    "import matplotlib.pyplot as plt"
   ]
  },
  {
   "cell_type": "markdown",
   "id": "6a41c404-af05-49d5-9a99-0d606763a536",
   "metadata": {
    "jp-MarkdownHeadingCollapsed": true,
    "tags": []
   },
   "source": [
    "## 滑块运算"
   ]
  },
  {
   "cell_type": "code",
   "execution_count": null,
   "id": "6308bf17-143f-4a50-b649-b2e3df179a86",
   "metadata": {
    "tags": []
   },
   "outputs": [],
   "source": [
    "# slider = widgets.FloatSlider(description='$x$')\n",
    "slider = widgets.IntSlider(description='$x$')\n",
    "text = widgets.FloatText(disabled=True, description='$x^2$')\n",
    "\n",
    "def compute(*ignore):\n",
    "    text.value = str(slider.value ** 2)\n",
    "\n",
    "slider.observe(compute, 'value')\n",
    "\n",
    "slider.value = 4\n",
    "\n",
    "widgets.VBox([slider, text])"
   ]
  },
  {
   "cell_type": "code",
   "execution_count": 4,
   "id": "7db67580-b8e7-41e4-a603-0173493ad951",
   "metadata": {
    "tags": []
   },
   "outputs": [
    {
     "data": {
      "text/html": [
       "<div>\n",
       "<style scoped>\n",
       "    .dataframe tbody tr th:only-of-type {\n",
       "        vertical-align: middle;\n",
       "    }\n",
       "\n",
       "    .dataframe tbody tr th {\n",
       "        vertical-align: top;\n",
       "    }\n",
       "\n",
       "    .dataframe thead th {\n",
       "        text-align: right;\n",
       "    }\n",
       "</style>\n",
       "<table border=\"1\" class=\"dataframe\">\n",
       "  <thead>\n",
       "    <tr style=\"text-align: right;\">\n",
       "      <th></th>\n",
       "      <th>sepal_length</th>\n",
       "      <th>sepal_width</th>\n",
       "      <th>petal_length</th>\n",
       "      <th>petal_width</th>\n",
       "      <th>species</th>\n",
       "    </tr>\n",
       "  </thead>\n",
       "  <tbody>\n",
       "    <tr>\n",
       "      <th>0</th>\n",
       "      <td>5.1</td>\n",
       "      <td>3.5</td>\n",
       "      <td>1.4</td>\n",
       "      <td>0.2</td>\n",
       "      <td>setosa</td>\n",
       "    </tr>\n",
       "    <tr>\n",
       "      <th>1</th>\n",
       "      <td>4.9</td>\n",
       "      <td>3.0</td>\n",
       "      <td>1.4</td>\n",
       "      <td>0.2</td>\n",
       "      <td>setosa</td>\n",
       "    </tr>\n",
       "    <tr>\n",
       "      <th>2</th>\n",
       "      <td>4.7</td>\n",
       "      <td>3.2</td>\n",
       "      <td>1.3</td>\n",
       "      <td>0.2</td>\n",
       "      <td>setosa</td>\n",
       "    </tr>\n",
       "    <tr>\n",
       "      <th>3</th>\n",
       "      <td>4.6</td>\n",
       "      <td>3.1</td>\n",
       "      <td>1.5</td>\n",
       "      <td>0.2</td>\n",
       "      <td>setosa</td>\n",
       "    </tr>\n",
       "    <tr>\n",
       "      <th>4</th>\n",
       "      <td>5.0</td>\n",
       "      <td>3.6</td>\n",
       "      <td>1.4</td>\n",
       "      <td>0.2</td>\n",
       "      <td>setosa</td>\n",
       "    </tr>\n",
       "    <tr>\n",
       "      <th>...</th>\n",
       "      <td>...</td>\n",
       "      <td>...</td>\n",
       "      <td>...</td>\n",
       "      <td>...</td>\n",
       "      <td>...</td>\n",
       "    </tr>\n",
       "    <tr>\n",
       "      <th>145</th>\n",
       "      <td>6.7</td>\n",
       "      <td>3.0</td>\n",
       "      <td>5.2</td>\n",
       "      <td>2.3</td>\n",
       "      <td>virginica</td>\n",
       "    </tr>\n",
       "    <tr>\n",
       "      <th>146</th>\n",
       "      <td>6.3</td>\n",
       "      <td>2.5</td>\n",
       "      <td>5.0</td>\n",
       "      <td>1.9</td>\n",
       "      <td>virginica</td>\n",
       "    </tr>\n",
       "    <tr>\n",
       "      <th>147</th>\n",
       "      <td>6.5</td>\n",
       "      <td>3.0</td>\n",
       "      <td>5.2</td>\n",
       "      <td>2.0</td>\n",
       "      <td>virginica</td>\n",
       "    </tr>\n",
       "    <tr>\n",
       "      <th>148</th>\n",
       "      <td>6.2</td>\n",
       "      <td>3.4</td>\n",
       "      <td>5.4</td>\n",
       "      <td>2.3</td>\n",
       "      <td>virginica</td>\n",
       "    </tr>\n",
       "    <tr>\n",
       "      <th>149</th>\n",
       "      <td>5.9</td>\n",
       "      <td>3.0</td>\n",
       "      <td>5.1</td>\n",
       "      <td>1.8</td>\n",
       "      <td>virginica</td>\n",
       "    </tr>\n",
       "  </tbody>\n",
       "</table>\n",
       "<p>150 rows × 5 columns</p>\n",
       "</div>"
      ],
      "text/plain": [
       "     sepal_length  sepal_width  petal_length  petal_width    species\n",
       "0             5.1          3.5           1.4          0.2     setosa\n",
       "1             4.9          3.0           1.4          0.2     setosa\n",
       "2             4.7          3.2           1.3          0.2     setosa\n",
       "3             4.6          3.1           1.5          0.2     setosa\n",
       "4             5.0          3.6           1.4          0.2     setosa\n",
       "..            ...          ...           ...          ...        ...\n",
       "145           6.7          3.0           5.2          2.3  virginica\n",
       "146           6.3          2.5           5.0          1.9  virginica\n",
       "147           6.5          3.0           5.2          2.0  virginica\n",
       "148           6.2          3.4           5.4          2.3  virginica\n",
       "149           5.9          3.0           5.1          1.8  virginica\n",
       "\n",
       "[150 rows x 5 columns]"
      ]
     },
     "execution_count": 4,
     "metadata": {},
     "output_type": "execute_result"
    }
   ],
   "source": [
    "iris = pd.read_csv('https://raw.githubusercontent.com/mwaskom/seaborn-data/master/iris.csv')\n",
    "iris"
   ]
  },
  {
   "cell_type": "markdown",
   "id": "d6daf3df-d9b2-4e16-ba56-1aedc7db8496",
   "metadata": {
    "jp-MarkdownHeadingCollapsed": true,
    "tags": []
   },
   "source": [
    "## 计算器"
   ]
  },
  {
   "cell_type": "code",
   "execution_count": 5,
   "id": "c46aa544-71ea-48fe-938a-212b79fa0368",
   "metadata": {
    "tags": []
   },
   "outputs": [
    {
     "data": {
      "application/vnd.jupyter.widget-view+json": {
       "model_id": "18361735baeb48c9a2a26e6da6155a1c",
       "version_major": 2,
       "version_minor": 0
      },
      "text/plain": [
       "VBox(children=(HBox(children=(Text(value='', description='A='), Label(value='+', layout=Layout(left='30px')), …"
      ]
     },
     "execution_count": 5,
     "metadata": {},
     "output_type": "execute_result"
    }
   ],
   "source": [
    "import time\n",
    "# 输入：窗格与文本定义\n",
    "input_text = widgets.Text(description='A=') #输入窗格\n",
    "input_text2 = widgets.Text(description='B=') #输入窗格\n",
    "plus_text = widgets.Label(value='+', layout=widgets.Layout(left='30px')) #描述文本\n",
    "submit_button = widgets.Button(\n",
    "    description='A + B = ?',\n",
    "    layout=widgets.Layout(left='220px')) #按键窗格\n",
    "html = widgets.HTML(value='') #输出窗格\n",
    "\n",
    "# 处理：算法赋予按键\n",
    "def submit(*ignore):\n",
    "    a = input_text.value\n",
    "    b = input_text2.value\n",
    "    for i in range(int(a)+int(b)): #读条器\n",
    "        time.sleep(0.5)\n",
    "        html.value = str(i+1)\n",
    "\n",
    "submit_button.on_click(submit)\n",
    "\n",
    "# 输出：排版布局\n",
    "widgets.VBox([ #横布局\n",
    "    widgets.HBox([ #纵布局\n",
    "        input_text,\n",
    "        plus_text,\n",
    "        input_text2\n",
    "    ]),\n",
    "    submit_button,\n",
    "    html\n",
    "])"
   ]
  },
  {
   "cell_type": "markdown",
   "id": "c3274dd4-bab9-4d8c-aa3d-5e27c944ae3e",
   "metadata": {},
   "source": [
    "## 叠图计算"
   ]
  },
  {
   "cell_type": "code",
   "execution_count": 11,
   "id": "43d7d5a7-3abb-4459-94da-e9afcb047420",
   "metadata": {},
   "outputs": [],
   "source": [
    "# 输入：个性偏好\n",
    "# input_text11 = widgets.IntSlider(min=1,max=5,step=1,description=\"坡度：偏好\")\n",
    "# input_text12 = widgets.IntSlider(min=1,max=5,step=1,description=\"权重\")\n",
    "# input_text21 = widgets.IntSlider(min=1,max=5,step=1,description=\"坡向：偏好\")\n",
    "# input_text22 = widgets.IntSlider(min=1,max=5,step=1,description=\"权重\")\n",
    "# submit_button = widgets.Button(\n",
    "#     description='评定',\n",
    "#     layout=widgets.Layout(left='220px'))\n",
    "\n",
    "# # 处理：偏好叠图\n",
    "# def submit():\n",
    "#     v_11 = int(input_text11.value)\n",
    "#     v_12 = int(input_text12.value)\n",
    "#     v_21 = int(input_text21.value)\n",
    "#     v_22 = int(input_text22.value)\n",
    "    \n",
    "\n",
    "# 输出：排版布局\n",
    "# widgets.VBox([\n",
    "#     widgets.HBox([input_text11,input_text12]),\n",
    "#     widgets.HBox([input_text21,input_text22]),\n",
    "#     submit_button\n",
    "# ])"
   ]
  },
  {
   "cell_type": "code",
   "execution_count": 3,
   "id": "89144959-501d-4b64-ab1d-03879ab1a261",
   "metadata": {},
   "outputs": [
    {
     "data": {
      "application/vnd.jupyter.widget-view+json": {
       "model_id": "c0744d80477e4effa09ef181c5415bcd",
       "version_major": 2,
       "version_minor": 0
      },
      "image/png": "[encoded data removed]",
      "text/html": [
       "\n",
       "            <div style=\"display: inline-block;\">\n",
       "                <div class=\"jupyter-widgets widget-label\" style=\"text-align: center;\">\n",
       "                    Figure\n",
       "                </div>\n",
       "                <img src='data:image/png;base64,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' width=640.0/>\n",
       "            </div>\n",
       "        "
      ],
      "text/plain": [
       "Canvas(toolbar=Toolbar(toolitems=[('Home', 'Reset original view', 'home', 'home'), ('Back', 'Back to previous …"
      ]
     },
     "metadata": {},
     "output_type": "display_data"
    }
   ],
   "source": [
    "plt.plot([1,2],[3,4])\n",
    "plt.show()"
   ]
  }
 ],
 "metadata": {
  "kernelspec": {
   "display_name": "Python 3 (ipykernel)",
   "language": "python",
   "name": "python3"
  },
  "language_info": {
   "codemirror_mode": {
    "name": "ipython",
    "version": 3
   },
   "file_extension": ".py",
   "mimetype": "text/x-python",
   "name": "python",
   "nbconvert_exporter": "python",
   "pygments_lexer": "ipython3",
   "version": "3.11.1"
  },
  "toc-autonumbering": true
 },
 "nbformat": 4,
 "nbformat_minor": 5
}
