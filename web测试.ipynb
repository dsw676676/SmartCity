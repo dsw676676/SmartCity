{
 "cells": [
  {
   "cell_type": "markdown",
   "id": "a80af273-f82b-4432-865a-5fd8fdc4b185",
   "metadata": {},
   "source": [
    "# web测试文档\n",
    "\n",
    "> 片段查看：运行即可\n",
    "> \n",
    "> 总体查看：http://localhost:8888/voila"
   ]
  },
  {
   "cell_type": "code",
   "execution_count": 1,
   "id": "b7779f0b-c2b5-4d8a-9d79-7e8d8a975fb2",
   "metadata": {},
   "outputs": [],
   "source": [
    "%matplotlib widget\n",
    "import ipywidgets as widgets\n",
    "import pandas as pd\n",
    "import matplotlib.pyplot as plt"
   ]
  },
  {
   "cell_type": "markdown",
   "id": "6a41c404-af05-49d5-9a99-0d606763a536",
   "metadata": {
    "tags": []
   },
   "source": [
    "## 滑块运算"
   ]
  },
  {
   "cell_type": "code",
   "execution_count": 4,
   "id": "6308bf17-143f-4a50-b649-b2e3df179a86",
   "metadata": {
    "tags": []
   },
   "outputs": [
    {
     "data": {
      "application/vnd.jupyter.widget-view+json": {
       "model_id": "de1ce075977c418cb68eb6f2d966f7f3",
       "version_major": 2,
       "version_minor": 0
      },
      "text/plain": [
       "VBox(children=(IntSlider(value=4, description='$x$', max=10, min=1), FloatText(value=16.0, description='$x^2$'…"
      ]
     },
     "execution_count": 4,
     "metadata": {},
     "output_type": "execute_result"
    }
   ],
   "source": [
    "# slider = widgets.FloatSlider(description='$x$')\n",
    "slider = widgets.IntSlider(min=1,max=10,step=1,description='$x$')\n",
    "text = widgets.FloatText(disabled=True, description='$x^2$')\n",
    "\n",
    "def compute(*ignore):\n",
    "    text.value = str(slider.value ** 2)\n",
    "\n",
    "slider.observe(compute, 'value')\n",
    "\n",
    "slider.value = 4\n",
    "\n",
    "widgets.VBox([slider, text])"
   ]
  },
  {
   "cell_type": "code",
   "execution_count": 4,
   "id": "7db67580-b8e7-41e4-a603-0173493ad951",
   "metadata": {
    "tags": []
   },
   "outputs": [
    {
     "data": {
      "text/html": [
       "<div>\n",
       "<style scoped>\n",
       "    .dataframe tbody tr th:only-of-type {\n",
       "        vertical-align: middle;\n",
       "    }\n",
       "\n",
       "    .dataframe tbody tr th {\n",
       "        vertical-align: top;\n",
       "    }\n",
       "\n",
       "    .dataframe thead th {\n",
       "        text-align: right;\n",
       "    }\n",
       "</style>\n",
       "<table border=\"1\" class=\"dataframe\">\n",
       "  <thead>\n",
       "    <tr style=\"text-align: right;\">\n",
       "      <th></th>\n",
       "      <th>sepal_length</th>\n",
       "      <th>sepal_width</th>\n",
       "      <th>petal_length</th>\n",
       "      <th>petal_width</th>\n",
       "      <th>species</th>\n",
       "    </tr>\n",
       "  </thead>\n",
       "  <tbody>\n",
       "    <tr>\n",
       "      <th>0</th>\n",
       "      <td>5.1</td>\n",
       "      <td>3.5</td>\n",
       "      <td>1.4</td>\n",
       "      <td>0.2</td>\n",
       "      <td>setosa</td>\n",
       "    </tr>\n",
       "    <tr>\n",
       "      <th>1</th>\n",
       "      <td>4.9</td>\n",
       "      <td>3.0</td>\n",
       "      <td>1.4</td>\n",
       "      <td>0.2</td>\n",
       "      <td>setosa</td>\n",
       "    </tr>\n",
       "    <tr>\n",
       "      <th>2</th>\n",
       "      <td>4.7</td>\n",
       "      <td>3.2</td>\n",
       "      <td>1.3</td>\n",
       "      <td>0.2</td>\n",
       "      <td>setosa</td>\n",
       "    </tr>\n",
       "    <tr>\n",
       "      <th>3</th>\n",
       "      <td>4.6</td>\n",
       "      <td>3.1</td>\n",
       "      <td>1.5</td>\n",
       "      <td>0.2</td>\n",
       "      <td>setosa</td>\n",
       "    </tr>\n",
       "    <tr>\n",
       "      <th>4</th>\n",
       "      <td>5.0</td>\n",
       "      <td>3.6</td>\n",
       "      <td>1.4</td>\n",
       "      <td>0.2</td>\n",
       "      <td>setosa</td>\n",
       "    </tr>\n",
       "    <tr>\n",
       "      <th>...</th>\n",
       "      <td>...</td>\n",
       "      <td>...</td>\n",
       "      <td>...</td>\n",
       "      <td>...</td>\n",
       "      <td>...</td>\n",
       "    </tr>\n",
       "    <tr>\n",
       "      <th>145</th>\n",
       "      <td>6.7</td>\n",
       "      <td>3.0</td>\n",
       "      <td>5.2</td>\n",
       "      <td>2.3</td>\n",
       "      <td>virginica</td>\n",
       "    </tr>\n",
       "    <tr>\n",
       "      <th>146</th>\n",
       "      <td>6.3</td>\n",
       "      <td>2.5</td>\n",
       "      <td>5.0</td>\n",
       "      <td>1.9</td>\n",
       "      <td>virginica</td>\n",
       "    </tr>\n",
       "    <tr>\n",
       "      <th>147</th>\n",
       "      <td>6.5</td>\n",
       "      <td>3.0</td>\n",
       "      <td>5.2</td>\n",
       "      <td>2.0</td>\n",
       "      <td>virginica</td>\n",
       "    </tr>\n",
       "    <tr>\n",
       "      <th>148</th>\n",
       "      <td>6.2</td>\n",
       "      <td>3.4</td>\n",
       "      <td>5.4</td>\n",
       "      <td>2.3</td>\n",
       "      <td>virginica</td>\n",
       "    </tr>\n",
       "    <tr>\n",
       "      <th>149</th>\n",
       "      <td>5.9</td>\n",
       "      <td>3.0</td>\n",
       "      <td>5.1</td>\n",
       "      <td>1.8</td>\n",
       "      <td>virginica</td>\n",
       "    </tr>\n",
       "  </tbody>\n",
       "</table>\n",
       "<p>150 rows × 5 columns</p>\n",
       "</div>"
      ],
      "text/plain": [
       "     sepal_length  sepal_width  petal_length  petal_width    species\n",
       "0             5.1          3.5           1.4          0.2     setosa\n",
       "1             4.9          3.0           1.4          0.2     setosa\n",
       "2             4.7          3.2           1.3          0.2     setosa\n",
       "3             4.6          3.1           1.5          0.2     setosa\n",
       "4             5.0          3.6           1.4          0.2     setosa\n",
       "..            ...          ...           ...          ...        ...\n",
       "145           6.7          3.0           5.2          2.3  virginica\n",
       "146           6.3          2.5           5.0          1.9  virginica\n",
       "147           6.5          3.0           5.2          2.0  virginica\n",
       "148           6.2          3.4           5.4          2.3  virginica\n",
       "149           5.9          3.0           5.1          1.8  virginica\n",
       "\n",
       "[150 rows x 5 columns]"
      ]
     },
     "execution_count": 4,
     "metadata": {},
     "output_type": "execute_result"
    }
   ],
   "source": [
    "iris = pd.read_csv('https://raw.githubusercontent.com/mwaskom/seaborn-data/master/iris.csv')\n",
    "iris"
   ]
  },
  {
   "cell_type": "markdown",
   "id": "d6daf3df-d9b2-4e16-ba56-1aedc7db8496",
   "metadata": {
    "tags": []
   },
   "source": [
    "## 计算器"
   ]
  },
  {
   "cell_type": "code",
   "execution_count": 5,
   "id": "c46aa544-71ea-48fe-938a-212b79fa0368",
   "metadata": {
    "tags": []
   },
   "outputs": [
    {
     "data": {
      "application/vnd.jupyter.widget-view+json": {
       "model_id": "b874087596b846b785c438eea2270d1f",
       "version_major": 2,
       "version_minor": 0
      },
      "text/plain": [
       "VBox(children=(HBox(children=(Text(value='', description='A='), Label(value='+', layout=Layout(left='30px')), …"
      ]
     },
     "execution_count": 5,
     "metadata": {},
     "output_type": "execute_result"
    }
   ],
   "source": [
    "import time\n",
    "# 输入：窗格与文本定义\n",
    "input_text = widgets.Text(description='A=') #输入窗格\n",
    "input_text2 = widgets.Text(description='B=') #输入窗格\n",
    "plus_text = widgets.Label(value='+', layout=widgets.Layout(left='30px')) #描述文本\n",
    "submit_button = widgets.Button(\n",
    "    description='A + B = ?',\n",
    "    layout=widgets.Layout(left='220px')) #按键窗格\n",
    "html = widgets.HTML(value='') #输出窗格\n",
    "\n",
    "# 处理：算法赋予按键\n",
    "def submit(*ignore):\n",
    "    a = input_text.value\n",
    "    b = input_text2.value\n",
    "    for i in range(int(a)+int(b)): #读条器\n",
    "        time.sleep(0.5)\n",
    "        html.value = str(i+1)\n",
    "\n",
    "submit_button.on_click(submit)\n",
    "\n",
    "# 输出：排版布局\n",
    "widgets.VBox([ #横布局\n",
    "    widgets.HBox([ #纵布局\n",
    "        input_text,\n",
    "        plus_text,\n",
    "        input_text2\n",
    "    ]),\n",
    "    submit_button,\n",
    "    html\n",
    "])"
   ]
  },
  {
   "cell_type": "markdown",
   "id": "c3274dd4-bab9-4d8c-aa3d-5e27c944ae3e",
   "metadata": {},
   "source": [
    "## 叠图计算"
   ]
  },
  {
   "cell_type": "code",
   "execution_count": 11,
   "id": "43d7d5a7-3abb-4459-94da-e9afcb047420",
   "metadata": {},
   "outputs": [],
   "source": [
    "# 输入：个性偏好\n",
    "# input_text11 = widgets.IntSlider(min=1,max=5,step=1,description=\"坡度：偏好\")\n",
    "# input_text12 = widgets.IntSlider(min=1,max=5,step=1,description=\"权重\")\n",
    "# input_text21 = widgets.IntSlider(min=1,max=5,step=1,description=\"坡向：偏好\")\n",
    "# input_text22 = widgets.IntSlider(min=1,max=5,step=1,description=\"权重\")\n",
    "# submit_button = widgets.Button(\n",
    "#     description='评定',\n",
    "#     layout=widgets.Layout(left='220px'))\n",
    "\n",
    "# # 处理：偏好叠图\n",
    "# def submit():\n",
    "#     v_11 = int(input_text11.value)\n",
    "#     v_12 = int(input_text12.value)\n",
    "#     v_21 = int(input_text21.value)\n",
    "#     v_22 = int(input_text22.value)\n",
    "    \n",
    "\n",
    "# 输出：排版布局\n",
    "# widgets.VBox([\n",
    "#     widgets.HBox([input_text11,input_text12]),\n",
    "#     widgets.HBox([input_text21,input_text22]),\n",
    "#     submit_button\n",
    "# ])"
   ]
  },
  {
   "cell_type": "code",
   "execution_count": 13,
   "id": "89144959-501d-4b64-ab1d-03879ab1a261",
   "metadata": {
    "execution": {
     "iopub.execute_input": "2023-04-05T14:50:58.627138Z",
     "iopub.status.busy": "2023-04-05T14:50:58.626027Z",
     "iopub.status.idle": "2023-04-05T14:50:58.822223Z",
     "shell.execute_reply": "2023-04-05T14:50:58.822223Z",
     "shell.execute_reply.started": "2023-04-05T14:50:58.627138Z"
    },
    "tags": []
   },
   "outputs": [
    {
     "ename": "IndexError",
     "evalue": "too many indices for array: array is 1-dimensional, but 2 were indexed",
     "output_type": "error",
     "traceback": [
      "\u001b[1;31m---------------------------------------------------------------------------\u001b[0m",
      "\u001b[1;31mIndexError\u001b[0m                                Traceback (most recent call last)",
      "Cell \u001b[1;32mIn[13], line 2\u001b[0m\n\u001b[0;32m      1\u001b[0m fig,axes \u001b[38;5;241m=\u001b[39m plt\u001b[38;5;241m.\u001b[39msubplots(\u001b[38;5;241m1\u001b[39m,\u001b[38;5;241m2\u001b[39m)\n\u001b[1;32m----> 2\u001b[0m plt\u001b[38;5;241m.\u001b[39mplot([[\u001b[38;5;241m1\u001b[39m,\u001b[38;5;241m2\u001b[39m],[\u001b[38;5;241m3\u001b[39m,\u001b[38;5;241m4\u001b[39m]],ax\u001b[38;5;241m=\u001b[39m\u001b[43maxes\u001b[49m\u001b[43m[\u001b[49m\u001b[38;5;241;43m0\u001b[39;49m\u001b[43m,\u001b[49m\u001b[38;5;241;43m0\u001b[39;49m\u001b[43m]\u001b[49m)\n\u001b[0;32m      3\u001b[0m plt\u001b[38;5;241m.\u001b[39mplot([\u001b[38;5;241m1\u001b[39m,\u001b[38;5;241m2\u001b[39m],[\u001b[38;5;241m3\u001b[39m,\u001b[38;5;241m4\u001b[39m],ax\u001b[38;5;241m=\u001b[39maxes[\u001b[38;5;241m0\u001b[39m,\u001b[38;5;241m1\u001b[39m])\n",
      "\u001b[1;31mIndexError\u001b[0m: too many indices for array: array is 1-dimensional, but 2 were indexed"
     ]
    },
    {
     "data": {
      "application/vnd.jupyter.widget-view+json": {
       "model_id": "d8629668aa534ebfb7f51d52cee638d8",
       "version_major": 2,
       "version_minor": 0
      },
      "image/png": "[encoded data removed]",
      "text/html": [
       "\n",
       "            <div style=\"display: inline-block;\">\n",
       "                <div class=\"jupyter-widgets widget-label\" style=\"text-align: center;\">\n",
       "                    Figure\n",
       "                </div>\n",
       "                <img src='data:image/png;base64,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' width=640.0/>\n",
       "            </div>\n",
       "        "
      ],
      "text/plain": [
       "Canvas(toolbar=Toolbar(toolitems=[('Home', 'Reset original view', 'home', 'home'), ('Back', 'Back to previous …"
      ]
     },
     "metadata": {},
     "output_type": "display_data"
    }
   ],
   "source": [
    "fig,axes = plt.subplots(1,2)\n",
    "plt.plot([[1,2],[3,4]],ax=axes[0,0])\n",
    "plt.plot([1,2],[3,4],ax=axes[0,1])"
   ]
  }
 ],
 "metadata": {
  "kernelspec": {
   "display_name": "Python 3 (ipykernel)",
   "language": "python",
   "name": "python3"
  },
  "language_info": {
   "codemirror_mode": {
    "name": "ipython",
    "version": 3
   },
   "file_extension": ".py",
   "mimetype": "text/x-python",
   "name": "python",
   "nbconvert_exporter": "python",
   "pygments_lexer": "ipython3",
   "version": "3.11.2"
  },
  "toc-autonumbering": true,
  "toc-showcode": false
 },
 "nbformat": 4,
 "nbformat_minor": 5
}
