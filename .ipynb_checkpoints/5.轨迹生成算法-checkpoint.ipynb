{
 "cells": [
  {
   "cell_type": "markdown",
   "id": "a99c4fcb",
   "metadata": {},
   "source": [
    "# 轨迹生成算法"
   ]
  },
  {
   "cell_type": "code",
   "execution_count": 3,
   "id": "e199e143",
   "metadata": {},
   "outputs": [],
   "source": [
    "import os, os.path, tqdm\n",
    "from rtree import index\n",
    "import shapefile\n",
    "from shapely.geometry import LineString\n",
    "import numpy as np\n",
    "from anytree import AnyNode, RenderTree, PreOrderIter\n",
    "from anytree.search import findall_by_attr"
   ]
  },
  {
   "cell_type": "code",
   "execution_count": 22,
   "id": "0c9249e7",
   "metadata": {},
   "outputs": [],
   "source": [
    "from_path = 'E://Netease//智慧城市//4.处理数据/workingdata4/'\n",
    "to_path = 'E://Netease//智慧城市//4.处理数据/workingdata5/'"
   ]
  },
  {
   "cell_type": "markdown",
   "id": "bd846051",
   "metadata": {},
   "source": [
    "## 读取文件"
   ]
  },
  {
   "cell_type": "code",
   "execution_count": 23,
   "id": "9d836d94",
   "metadata": {},
   "outputs": [],
   "source": [
    "fi = shapefile.Reader(from_path+\"track_山地骑行_clean.shp\")\n",
    "records = fi.records()\n",
    "fields = fi.fields\n",
    "geoms = fi.shapes()\n",
    "fi.close()"
   ]
  },
  {
   "cell_type": "code",
   "execution_count": 24,
   "id": "d463d73e",
   "metadata": {},
   "outputs": [],
   "source": [
    "# 注意是米制坐标系\n",
    "offset = 10\n",
    "spatial_index = index.Index()\n",
    "for gi, geom in enumerate(geoms):\n",
    "    left, bottom, right, top = geom.bbox\n",
    "    spatial_index.insert(gi, (left - offset, bottom - offset, right + offset, top + offset))"
   ]
  },
  {
   "cell_type": "markdown",
   "id": "cb2f70ed",
   "metadata": {},
   "source": [
    "## 构建邻接表"
   ]
  },
  {
   "cell_type": "code",
   "execution_count": null,
   "id": "1f322f38",
   "metadata": {
    "scrolled": true
   },
   "outputs": [],
   "source": [
    "# 构建邻接表\n",
    "adjacent = np.zeros((len(geoms), len(geoms)), dtype=np.int32)\n",
    "for gi, geom in enumerate(geoms):\n",
    "    line_base = LineString(geom.points)\n",
    "    features_nearby = list(spatial_index.intersection(geom.bbox))\n",
    "    for fidx in features_nearby:\n",
    "        line = LineString(geoms[fidx].points)\n",
    "        if line_base.intersects(line):\n",
    "            adjacent[gi, fidx] = 1"
   ]
  },
  {
   "cell_type": "markdown",
   "id": "b59fbf1d",
   "metadata": {},
   "source": [
    "## 获取典型线段"
   ]
  },
  {
   "cell_type": "code",
   "execution_count": null,
   "id": "14e2037b",
   "metadata": {},
   "outputs": [],
   "source": [
    "# 广度优先遍历 符合要求的路径\n",
    "# 筛选条件：slope_mean大于39\n",
    "tolerence = 8  # 允许的连续不满足条件的元素数\n",
    "total_length_tolerence = 3000\n",
    "target_field = \"slope_mean\"\n",
    "length_field = \"length_n\"\n",
    "nodes_set = set()\n",
    "target_field_records = np.array([float(record[target_field]) if record[target_field] else 0.0 for record in records])\n",
    "roots_idx = np.where((target_field_records >= 39))[0].tolist()\n",
    "progress = tqdm.tqdm(total=len(roots_idx))"
   ]
  },
  {
   "cell_type": "code",
   "execution_count": null,
   "id": "6873ba93",
   "metadata": {},
   "outputs": [],
   "source": [
    "for root_idx in roots_idx:\n",
    "# for root_idx in [1367]:\n",
    "    if root_idx in nodes_set:\n",
    "        continue\n",
    "    root = AnyNode(name=str(root_idx) + \"_0\")\n",
    "    cdts = [root]\n",
    "\n",
    "    while len(cdts) > 0:\n",
    "        current_node_idx = int(cdts[0].name.split(\"_\")[0])\n",
    "        adjacent_lines_idx = np.nonzero(adjacent[current_node_idx, :])[0].tolist()\n",
    "        nodes_set.add(current_node_idx)\n",
    "        for adjacent_line_idx in adjacent_lines_idx:\n",
    "            if not records[adjacent_line_idx][target_field]:\n",
    "                continue\n",
    "            # flag = float(records[adjacent_line_idx][target_field]) < 20 or float(records[adjacent_line_idx][target_field]) >= 35\n",
    "            flag = not float(records[adjacent_line_idx][target_field]) >= 39\n",
    "            node_name = \"%d_%d\" % (adjacent_line_idx, flag)\n",
    "            # current_path_exception = sum([int(node.name.split(\"_\")[1]) for node in cdts[0].path]) + int(flag)\n",
    "            current_path_exception = sum([int(node.name.split(\"_\")[1]) for node in list(cdts[0].iter_path_reverse())[:tolerence]]) + int(flag)\n",
    "            if len(list(findall_by_attr(root, node_name))) < 1 and current_path_exception < tolerence and adjacent_line_idx not in nodes_set:\n",
    "                adjacent_line = AnyNode(name=node_name, parent=cdts[0])\n",
    "                nodes_set.add(adjacent_line_idx)\n",
    "                cdts.append(adjacent_line)\n",
    "        del cdts[0]\n",
    "\n",
    "    # print(RenderTree(root))\n",
    "    nodes = set()\n",
    "    dfs_paths = [leaf.iter_path_reverse() for leaf in root.leaves]\n",
    "    for path in dfs_paths:\n",
    "        flag = False\n",
    "        for node in path:\n",
    "            if node.name.split(\"_\")[1] == \"0\":\n",
    "                flag = True\n",
    "            if flag:\n",
    "                nodes.add(node)\n",
    "\n",
    "    total_length = sum([records[int(node.name.split(\"_\")[0])][length_field] for node in list(nodes)])\n",
    "    if total_length < total_length_tolerence:\n",
    "        continue\n",
    "\n",
    "    fo = shapefile.Writer(os.path.join(to_path, \"%d.shp\" % (root_idx)))\n",
    "    fo.autoBalance = 1\n",
    "    for field in fields[1:]:\n",
    "        fo.field(*field)\n",
    "    fo.field(\"RouteID\", 'N')\n",
    "    fo.field(\"FID_Copy\", 'N')\n",
    "    for node in list(nodes):\n",
    "        feature_idx = int(node.name.split(\"_\")[0])\n",
    "        record = records[feature_idx] + [root_idx, feature_idx]\n",
    "        fo.line([geoms[feature_idx].points])\n",
    "        fo.record(*record)\n",
    "    fo.close()\n",
    "    progress.update(1)"
   ]
  }
 ],
 "metadata": {
  "kernelspec": {
   "display_name": "Python 3 (ipykernel)",
   "language": "python",
   "name": "python3"
  },
  "language_info": {
   "codemirror_mode": {
    "name": "ipython",
    "version": 3
   },
   "file_extension": ".py",
   "mimetype": "text/x-python",
   "name": "python",
   "nbconvert_exporter": "python",
   "pygments_lexer": "ipython3",
   "version": "3.11.3"
  },
  "toc": {
   "base_numbering": 1,
   "nav_menu": {
    "height": "148px",
    "width": "160px"
   },
   "number_sections": true,
   "sideBar": true,
   "skip_h1_title": false,
   "title_cell": "Table of Contents",
   "title_sidebar": "Contents",
   "toc_cell": false,
   "toc_position": {
    "height": "calc(100% - 180px)",
    "left": "10px",
    "top": "150px",
    "width": "373.391px"
   },
   "toc_section_display": true,
   "toc_window_display": false
  },
  "toc-autonumbering": true,
  "toc-showtags": false,
  "varInspector": {
   "cols": {
    "lenName": 16,
    "lenType": 16,
    "lenVar": 40
   },
   "kernels_config": {
    "python": {
     "delete_cmd_postfix": "",
     "delete_cmd_prefix": "del ",
     "library": "var_list.py",
     "varRefreshCmd": "print(var_dic_list())"
    },
    "r": {
     "delete_cmd_postfix": ") ",
     "delete_cmd_prefix": "rm(",
     "library": "var_list.r",
     "varRefreshCmd": "cat(var_dic_list()) "
    }
   },
   "types_to_exclude": [
    "module",
    "function",
    "builtin_function_or_method",
    "instance",
    "_Feature"
   ],
   "window_display": false
  }
 },
 "nbformat": 4,
 "nbformat_minor": 5
}
