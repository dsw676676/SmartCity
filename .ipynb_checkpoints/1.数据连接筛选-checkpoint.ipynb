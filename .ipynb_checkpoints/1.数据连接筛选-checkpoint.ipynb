{
 "cells": [
  {
   "attachments": {},
   "cell_type": "markdown",
   "id": "24581b3a-3b0a-42a9-99d4-fa1ec3703d9b",
   "metadata": {},
   "source": [
    "# 数据连接与筛选\n",
    "\n",
    "筛选北京数据"
   ]
  },
  {
   "cell_type": "code",
   "execution_count": 1,
   "id": "6189d416",
   "metadata": {},
   "outputs": [],
   "source": [
    "import geopandas as gpd\n",
    "import matplotlib as plt\n",
    "import pandas as pd\n",
    "import os, glob"
   ]
  },
  {
   "attachments": {},
   "cell_type": "markdown",
   "id": "5ca477c8",
   "metadata": {
    "tags": [
     "调用"
    ]
   },
   "source": [
    "## 一、遍历文件"
   ]
  },
  {
   "cell_type": "markdown",
   "id": "98f4a537",
   "metadata": {},
   "source": [
    "\n",
    "### 1）合并id对应用户属性excel→csv"
   ]
  },
  {
   "cell_type": "code",
   "execution_count": 6,
   "id": "ac8e43b8",
   "metadata": {},
   "outputs": [],
   "source": [
    "# 文件夹的路径\n",
    "from_path = r\"E:\\Netease\\智慧城市\\1.sixfoot全部相关数据\\六只脚基本数据\\【六只脚初始数据备份】（未给投影）\\basic\"\n",
    "to_path = r\"E:\\Netease\\智慧城市\\4.处理数据\\rawdata\"\n",
    "\n",
    "# 获取所有excel文件的列表\n",
    "filenames = glob.glob(from_path + \"\\\\*.xlsx\")\n",
    "\n",
    "# 初始化一个空的数据框\n",
    "finalexcelsheet = pd.DataFrame()\n",
    "\n",
    "# 遍历每个excel文件\n",
    "for file in filenames[:2]:\n",
    "    # 将每个excel文件中的所有工作表合并为一个数据框\n",
    "    df = pd.concat(pd.read_excel(file, sheet_name=None), ignore_index=True, sort=False)\n",
    "    # 将其添加到最终的数据框中\n",
    "    finalexcelsheet = pd.concat([finalexcelsheet,df], ignore_index=True)\n",
    "\n",
    "# 输出为一个新的csv文件\n",
    "finalexcelsheet.to_csv(to_path+r'\\行程信息.csv', index=False, encoding=\"utf-8_sig\")"
   ]
  },
  {
   "cell_type": "markdown",
   "id": "56db749b",
   "metadata": {},
   "source": [
    "### 2）获得id对应线数据列表ls"
   ]
  },
  {
   "cell_type": "code",
   "execution_count": 2,
   "id": "624f1347-3aa8-4cc4-8b10-22ee5a2cf215",
   "metadata": {
    "tags": [
     "输入"
    ]
   },
   "outputs": [
    {
     "name": "stdout",
     "output_type": "stream",
     "text": [
      "32\n"
     ]
    }
   ],
   "source": [
    "folder =  r\"E:\\Netease\\智慧城市\\1.sixfoot全部相关数据\\六只脚基本数据\\【六只脚初始数据备份】（未给投影）\"    #输入地址\n",
    "outfolder = r\"E:\\Netease\\智慧城市\\4.处理数据\"\n",
    "datadirs = []\n",
    "\n",
    "for root,dirs,files in os.walk(folder, topdown=False):\n",
    "    for name in dirs: #遍历文件夹\n",
    "        sigdir = os.path.join(root,name)\n",
    "        \n",
    "        pt = glob.glob(sigdir + r'\\*track*.shp')\n",
    "        datadirs.append(pt)\n",
    "\n",
    "from itertools import chain\n",
    "\n",
    "obj = chain.from_iterable(datadirs)\n",
    "ls = list(obj)\n",
    "print(len(ls))"
   ]
  },
  {
   "cell_type": "markdown",
   "id": "f35d8053",
   "metadata": {},
   "source": [
    "## 二、数据处理：筛选+连接"
   ]
  },
  {
   "cell_type": "code",
   "execution_count": 3,
   "id": "02c8fc9d",
   "metadata": {},
   "outputs": [],
   "source": [
    "track_zj = pd.read_csv(outfolder+r\"\\rawdata\\行程信息.csv\") #用户属性→赋值\n",
    "track_zj[\"tripid\"] = track_zj[\"tripid\"].astype(\"str\")\n",
    "pl_bj = gpd.read_file(outfolder+r\"\\rawdata\\北京市行政边界.shp\") #北京行政边界→筛选\n",
    "pl_bjqx = gpd.read_file(outfolder+r\"\\rawdata\\北京市区县边界.shp\").to_crs(epsg = 4326) #北京区县边界→赋值"
   ]
  },
  {
   "cell_type": "code",
   "execution_count": null,
   "id": "ec554964",
   "metadata": {},
   "outputs": [],
   "source": [
    "for a,i in enumerate(ls):\n",
    "    print(a,i)\n",
    "    track = gpd.read_file(i) #读取轨迹文件\n",
    "    dt = track.merge(track_zj,on = 'tripid') #连接：通过tripid字段连接track与track_zj图层\n",
    "    if dt.crs is None:\n",
    "        dt = dt.set_crs(epsg = 4326)\n",
    "    else:\n",
    "        dt = dt.to_crs(epsg = 4326)\n",
    "    \n",
    "    dt_bj = gpd.overlay(dt,pl_bj,how = 'intersection',keep_geom_type=False) #筛选：图层取交集\n",
    "    track = gpd.sjoin(dt_bj,pl_bjqx,predicate = 'intersects') #赋值：按空间关系将面信息赋给线（只要相交）\n",
    "    track = track[['tripid', 'location', 'title', 'triptime', 'triptype', 'geometry']] #选择图层字段\n",
    "    print(track.head())\n",
    "    if track.empty is True:\n",
    "        continue\n",
    "    else:\n",
    "        track.to_file(outfolder+r'\\workingdata\\track_zj_'+str(a)+'.shp',encoding = 'utf-8') #图层导出shp"
   ]
  },
  {
   "cell_type": "markdown",
   "id": "4f055333",
   "metadata": {},
   "source": [
    "### 筛选代码测试"
   ]
  },
  {
   "cell_type": "code",
   "execution_count": null,
   "id": "ffc3aa09",
   "metadata": {},
   "outputs": [],
   "source": [
    "pl_bj.plot()"
   ]
  },
  {
   "cell_type": "code",
   "execution_count": null,
   "id": "9173a420",
   "metadata": {},
   "outputs": [],
   "source": [
    "track = gpd.read_file(r'E:\\Netease\\智慧城市\\1.sixfoot全部相关数据\\六只脚基本数据\\【六只脚初始数据备份】（未给投影）\\1_300000已完成（除去60000_160000，494_15494）\\2_492+16040_60000+160000_222080\\track2_492+16040_60000+160000_222080.shp')\n",
    "print(track.head())"
   ]
  },
  {
   "cell_type": "code",
   "execution_count": null,
   "id": "0df75dff",
   "metadata": {},
   "outputs": [],
   "source": [
    "track_zj = pd.read_csv(outfolder+r\"\\rawdata\\行程信息.csv\")\n",
    "print(track_zj.head())"
   ]
  },
  {
   "attachments": {},
   "cell_type": "markdown",
   "id": "1448ac2b",
   "metadata": {},
   "source": [
    "## 三、数据按出行类型分类"
   ]
  },
  {
   "cell_type": "code",
   "execution_count": 8,
   "id": "929c8a94",
   "metadata": {},
   "outputs": [
    {
     "name": "stdout",
     "output_type": "stream",
     "text": [
      "bycicle_all.csv 11940\n",
      "climbing_all.csv 64092\n",
      "driving_all.csv 29723\n",
      "moto_all.csv 892\n",
      "others_all.csv 6653\n",
      "running_all.csv 3409\n",
      "sightsee_all.csv 15366\n",
      "walk_all.csv 89579\n",
      "221654\n"
     ]
    }
   ],
   "source": [
    "work_path = r\"E:\\Netease\\智慧城市\\2.相关代码及说明\\轨迹数据清洗代码及说明(胡宝生)\\轨迹数据分类(可能不完整，需核验)\"\n",
    "type_lst = os.listdir(work_path)\n",
    "\n",
    "sum = 0\n",
    "for type_file in type_lst:\n",
    "    num = len(pd.read_csv(work_path+\"\\\\\"+type_file,encoding=\"gbk\"))\n",
    "    sum += num\n",
    "    print(type_file,num)\n",
    "\n",
    "print(sum)"
   ]
  }
 ],
 "metadata": {
  "kernelspec": {
   "display_name": "Python 3 (ipykernel)",
   "language": "python",
   "name": "python3"
  },
  "language_info": {
   "codemirror_mode": {
    "name": "ipython",
    "version": 3
   },
   "file_extension": ".py",
   "mimetype": "text/x-python",
   "name": "python",
   "nbconvert_exporter": "python",
   "pygments_lexer": "ipython3",
   "version": "3.11.1"
  },
  "toc-autonumbering": false,
  "toc-showcode": false,
  "toc-showmarkdowntxt": false,
  "toc-showtags": false
 },
 "nbformat": 4,
 "nbformat_minor": 5
}
