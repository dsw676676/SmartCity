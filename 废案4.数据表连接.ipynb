{
 "cells": [
  {
   "cell_type": "markdown",
   "id": "823025d9-957a-4621-95d9-daa0dd09d9e9",
   "metadata": {},
   "source": [
    "# 数据表连接"
   ]
  },
  {
   "cell_type": "code",
   "execution_count": 1,
   "id": "128a1f11-6839-49ba-98bb-c9a7e7c4a1ba",
   "metadata": {},
   "outputs": [],
   "source": [
    "import os,glob\n",
    "import geopandas as gpd\n",
    "import pandas as pd"
   ]
  },
  {
   "cell_type": "markdown",
   "id": "8bbd53d3-ef33-4326-bbaa-fdd7f7750b43",
   "metadata": {
    "tags": [
     "调用"
    ]
   },
   "source": [
    "## 遍历文件"
   ]
  },
  {
   "cell_type": "markdown",
   "id": "5e666695-4979-4b55-bd6a-70b5d4a2d127",
   "metadata": {},
   "source": [
    "### 用户属性：合并id对应excel→csv"
   ]
  },
  {
   "cell_type": "code",
   "execution_count": 4,
   "id": "99d7fa98-6e6d-4a56-aee1-9a94c8a9e072",
   "metadata": {
    "tags": []
   },
   "outputs": [],
   "source": [
    "# 文件夹的路径\n",
    "from_path = r\"E:\\Netease\\智慧城市\\1.sixfoot全部相关数据\\六只脚基本数据\\【六只脚初始数据备份】（未给投影）\\basic\"\n",
    "to_path = r\"E:\\Netease\\智慧城市\\4.处理数据\\rawdata\""
   ]
  },
  {
   "cell_type": "code",
   "execution_count": null,
   "id": "cfb4bd84-1274-4979-8265-2a7c8354345d",
   "metadata": {
    "tags": []
   },
   "outputs": [],
   "source": [
    "# 获取所有excel文件的列表\n",
    "filenames = glob.glob(from_path + \"\\\\*.xlsx\")\n",
    "\n",
    "# 初始化一个空的数据框\n",
    "finalexcelsheet = pd.DataFrame()\n",
    "\n",
    "# 遍历每个excel文件\n",
    "for file in filenames[:2]:\n",
    "    # 将每个excel文件中的所有工作表合并为一个数据框\n",
    "    df = pd.concat(pd.read_excel(file, sheet_name=None), ignore_index=True, sort=False)\n",
    "    df.head()\n",
    "    # 将其添加到最终的数据框中\n",
    "    finalexcelsheet = pd.concat([finalexcelsheet,df], ignore_index=True)\n",
    "\n",
    "# 输出为一个新的csv文件\n",
    "finalexcelsheet.to_csv(to_path+r'\\行程信息.csv', index=False, encoding=\"utf-8_sig\")"
   ]
  },
  {
   "cell_type": "markdown",
   "id": "b11eb504-4b2a-4d10-95ec-b2b74a39f531",
   "metadata": {},
   "source": [
    "### 轨迹数据：获取储存位置list"
   ]
  },
  {
   "cell_type": "code",
   "execution_count": 2,
   "id": "6f113ed8-bc1b-47b6-90cd-ece1090b5b14",
   "metadata": {},
   "outputs": [],
   "source": [
    "from_path = r\"E:\\Netease\\智慧城市\\4.处理数据\\workingdata4\"\n",
    "to_path = r\"E:\\Netease\\智慧城市\\4.处理数据\\workingdata5\""
   ]
  },
  {
   "cell_type": "code",
   "execution_count": 17,
   "id": "4aa10679-3374-450a-9623-60f0950506f5",
   "metadata": {
    "collapsed": true,
    "jupyter": {
     "outputs_hidden": true
    },
    "tags": []
   },
   "outputs": [
    {
     "data": {
      "text/plain": [
       "['E:\\\\Netease\\\\智慧城市\\\\4.处理数据\\\\workingdata4\\\\track_其他_clean.shp',\n",
       " 'E:\\\\Netease\\\\智慧城市\\\\4.处理数据\\\\workingdata4\\\\track_山地骑行_clean.shp',\n",
       " 'E:\\\\Netease\\\\智慧城市\\\\4.处理数据\\\\workingdata4\\\\track_徒步_clean.shp',\n",
       " 'E:\\\\Netease\\\\智慧城市\\\\4.处理数据\\\\workingdata4\\\\track_摩托车_clean.shp',\n",
       " 'E:\\\\Netease\\\\智慧城市\\\\4.处理数据\\\\workingdata4\\\\track_登山_clean.shp',\n",
       " 'E:\\\\Netease\\\\智慧城市\\\\4.处理数据\\\\workingdata4\\\\track_自驾车_clean.shp',\n",
       " 'E:\\\\Netease\\\\智慧城市\\\\4.处理数据\\\\workingdata4\\\\track_观光旅行_clean.shp',\n",
       " 'E:\\\\Netease\\\\智慧城市\\\\4.处理数据\\\\workingdata4\\\\track_越野跑_clean.shp',\n",
       " 'E:\\\\Netease\\\\智慧城市\\\\4.处理数据\\\\workingdata4\\\\track_跑步_clean.shp',\n",
       " 'E:\\\\Netease\\\\智慧城市\\\\4.处理数据\\\\workingdata4\\\\track_骑行_clean.shp']"
      ]
     },
     "execution_count": 17,
     "metadata": {},
     "output_type": "execute_result"
    }
   ],
   "source": [
    "ls = glob.glob(from_path+r\"\\track_*.shp\")\n",
    "ls"
   ]
  },
  {
   "cell_type": "markdown",
   "id": "8cf2dbc5-23b5-49c8-9818-1af650c47387",
   "metadata": {
    "tags": []
   },
   "source": [
    "## 数据筛选与连接"
   ]
  },
  {
   "cell_type": "code",
   "execution_count": 5,
   "id": "34693370-a520-44c1-85fd-485332cfcb0a",
   "metadata": {},
   "outputs": [],
   "source": [
    "track_zj = pd.read_csv(r\"E:\\Netease\\智慧城市\\4.处理数据\\rawdata\\行程信息.csv\")  # 用户属性→赋值\n",
    "track_zj[\"tripid\"] = track_zj[\"tripid\"].astype(\"str\")"
   ]
  },
  {
   "cell_type": "code",
   "execution_count": null,
   "id": "bab1de36-0be6-4330-a293-81214ddb919e",
   "metadata": {},
   "outputs": [],
   "source": [
    "for a,i in enumerate(ls[:1]):\n",
    "    track = gpd.read_file(i) #读取轨迹文件\n",
    "    track\n",
    "    dt = track.merge(track_zj,on = 'tripid') #连接：通过tripid字段连接track与track_zj图层\n",
    "    if dt.crs is None:\n",
    "        dt = dt.set_crs(epsg = 4326)\n",
    "    else:\n",
    "        dt = dt.to_crs(epsg = 4326)\n",
    "    track.head()\n",
    "\n",
    "    # track = track[['tripid', 'location', 'title', 'triptime', 'triptype', 'geometry']] #选择图层字段\n",
    "    # if track.empty is True:\n",
    "    #     continue\n",
    "    # else:\n",
    "    #     track.to_file(to_path+r'\\workingdata\\track_zj_'+str(a)+'.shp',encoding='utf-8') #图层导出shp"
   ]
  },
  {
   "cell_type": "code",
   "execution_count": 5,
   "id": "589fe028-3b69-446b-90f8-9e07fde5ec25",
   "metadata": {},
   "outputs": [
    {
     "data": {
      "text/html": [
       "<div>\n",
       "<style scoped>\n",
       "    .dataframe tbody tr th:only-of-type {\n",
       "        vertical-align: middle;\n",
       "    }\n",
       "\n",
       "    .dataframe tbody tr th {\n",
       "        vertical-align: top;\n",
       "    }\n",
       "\n",
       "    .dataframe thead th {\n",
       "        text-align: right;\n",
       "    }\n",
       "</style>\n",
       "<table border=\"1\" class=\"dataframe\">\n",
       "  <thead>\n",
       "    <tr style=\"text-align: right;\">\n",
       "      <th></th>\n",
       "      <th>Unnamed: 0</th>\n",
       "      <th>description</th>\n",
       "      <th>location</th>\n",
       "      <th>title</th>\n",
       "      <th>tripid</th>\n",
       "      <th>triptime</th>\n",
       "      <th>triptype</th>\n",
       "      <th>userid</th>\n",
       "      <th>username</th>\n",
       "    </tr>\n",
       "  </thead>\n",
       "  <tbody>\n",
       "    <tr>\n",
       "      <th>0</th>\n",
       "      <td>0</td>\n",
       "      <td>晚公园处扎帐篷，一晚上就是吵，车多，早上停车场就被封了，进入要收费。</td>\n",
       "      <td>山东 潍坊 诸城市 - 山东 潍坊 诸城市</td>\n",
       "      <td>20180526诸城</td>\n",
       "      <td>1675488</td>\n",
       "      <td>于 2018-05-26 19:01 出发,历时 1 小时, 6 分钟</td>\n",
       "      <td>观光旅行</td>\n",
       "      <td>120912</td>\n",
       "      <td>wangqiuxiang</td>\n",
       "    </tr>\n",
       "    <tr>\n",
       "      <th>1</th>\n",
       "      <td>1</td>\n",
       "      <td>这条环线是走过的线路里比较美的一条了，特别是石门那段，沿途溪流和飞瀑相伴，秋色与古道并存，值...</td>\n",
       "      <td>浙江 宁波 余姚市 - 浙江 宁波 余姚市</td>\n",
       "      <td>余姚燕窝古道</td>\n",
       "      <td>792091</td>\n",
       "      <td>于 2015-10-31 08:26 出发,历时 6 小时, 32 分钟</td>\n",
       "      <td>徒步</td>\n",
       "      <td>120916</td>\n",
       "      <td>600690A8B8@qq</td>\n",
       "    </tr>\n",
       "    <tr>\n",
       "      <th>2</th>\n",
       "      <td>2</td>\n",
       "      <td>无</td>\n",
       "      <td>浙江 宁波 余姚市 - 浙江 宁波 余姚市</td>\n",
       "      <td>斤岭古道</td>\n",
       "      <td>817344</td>\n",
       "      <td>于 2015-12-27 09:46 出发,历时 4 小时, 23 分钟</td>\n",
       "      <td>徒步</td>\n",
       "      <td>120916</td>\n",
       "      <td>600690A8B8@qq</td>\n",
       "    </tr>\n",
       "    <tr>\n",
       "      <th>3</th>\n",
       "      <td>3</td>\n",
       "      <td>自驾游，有段挺险的</td>\n",
       "      <td>山东 东营 东营区 - 山东 东营 东营区</td>\n",
       "      <td>20180602海上房</td>\n",
       "      <td>1687717</td>\n",
       "      <td>于 2018-06-02 05:33 出发,历时 15 小时, 16 分钟</td>\n",
       "      <td>登山</td>\n",
       "      <td>120912</td>\n",
       "      <td>wangqiuxiang</td>\n",
       "    </tr>\n",
       "    <tr>\n",
       "      <th>4</th>\n",
       "      <td>4</td>\n",
       "      <td>自驾游三天，商务大通，7人坐10人座的车</td>\n",
       "      <td>山东 滨州 滨州市区 - 山东 东营 东营区</td>\n",
       "      <td>20180616王莽岭</td>\n",
       "      <td>1704615</td>\n",
       "      <td>于 2018-06-16 07:49 出发,历时 2 天, 12 小时</td>\n",
       "      <td>自驾车</td>\n",
       "      <td>120912</td>\n",
       "      <td>wangqiuxiang</td>\n",
       "    </tr>\n",
       "  </tbody>\n",
       "</table>\n",
       "</div>"
      ],
      "text/plain": [
       "   Unnamed: 0                                        description   \n",
       "0           0                 晚公园处扎帐篷，一晚上就是吵，车多，早上停车场就被封了，进入要收费。  \\\n",
       "1           1  这条环线是走过的线路里比较美的一条了，特别是石门那段，沿途溪流和飞瀑相伴，秋色与古道并存，值...   \n",
       "2           2                                                  无   \n",
       "3           3                                          自驾游，有段挺险的   \n",
       "4           4                               自驾游三天，商务大通，7人坐10人座的车   \n",
       "\n",
       "                 location        title   tripid   \n",
       "0   山东 潍坊 诸城市 - 山东 潍坊 诸城市   20180526诸城  1675488  \\\n",
       "1   浙江 宁波 余姚市 - 浙江 宁波 余姚市       余姚燕窝古道   792091   \n",
       "2   浙江 宁波 余姚市 - 浙江 宁波 余姚市         斤岭古道   817344   \n",
       "3   山东 东营 东营区 - 山东 东营 东营区  20180602海上房  1687717   \n",
       "4  山东 滨州 滨州市区 - 山东 东营 东营区  20180616王莽岭  1704615   \n",
       "\n",
       "                                triptime triptype  userid       username  \n",
       "0    于 2018-05-26 19:01 出发,历时 1 小时, 6 分钟     观光旅行  120912   wangqiuxiang  \n",
       "1   于 2015-10-31 08:26 出发,历时 6 小时, 32 分钟       徒步  120916  600690A8B8@qq  \n",
       "2   于 2015-12-27 09:46 出发,历时 4 小时, 23 分钟       徒步  120916  600690A8B8@qq  \n",
       "3  于 2018-06-02 05:33 出发,历时 15 小时, 16 分钟       登山  120912   wangqiuxiang  \n",
       "4    于 2018-06-16 07:49 出发,历时 2 天, 12 小时      自驾车  120912   wangqiuxiang  "
      ]
     },
     "execution_count": 5,
     "metadata": {},
     "output_type": "execute_result"
    }
   ],
   "source": [
    "track_zj = pd.read_csv(to_path+r\"\\rawdata\\行程信息.csv\")\n",
    "track_zj.head()"
   ]
  }
 ],
 "metadata": {
  "kernelspec": {
   "display_name": "Python 3 (ipykernel)",
   "language": "python",
   "name": "python3"
  },
  "language_info": {
   "codemirror_mode": {
    "name": "ipython",
    "version": 3
   },
   "file_extension": ".py",
   "mimetype": "text/x-python",
   "name": "python",
   "nbconvert_exporter": "python",
   "pygments_lexer": "ipython3",
   "version": "3.11.3"
  },
  "toc-autonumbering": true
 },
 "nbformat": 4,
 "nbformat_minor": 5
}
