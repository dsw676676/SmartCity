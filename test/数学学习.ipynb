{
 "cells": [
  {
   "cell_type": "markdown",
   "id": "2d7cfaf2-9dac-4825-8793-c2e7b117eb95",
   "metadata": {},
   "source": [
    "# 数学思想"
   ]
  },
  {
   "cell_type": "markdown",
   "id": "56be76f8-a220-4e45-a54e-1cec10f60c91",
   "metadata": {},
   "source": [
    "## 分形维数"
   ]
  },
  {
   "cell_type": "markdown",
   "id": "31e69f36-2243-4713-9b6a-22c12a13f5db",
   "metadata": {},
   "source": [
    "康托"
   ]
  },
  {
   "cell_type": "code",
   "execution_count": 1,
   "id": "d79745de-6513-4a56-9105-e5a00dd6943b",
   "metadata": {
    "execution": {
     "iopub.execute_input": "2023-04-08T01:41:22.814597Z",
     "iopub.status.busy": "2023-04-08T01:41:22.813595Z",
     "iopub.status.idle": "2023-04-08T01:41:29.734629Z",
     "shell.execute_reply": "2023-04-08T01:41:29.733686Z",
     "shell.execute_reply.started": "2023-04-08T01:41:22.814597Z"
    },
    "tags": []
   },
   "outputs": [],
   "source": [
    "# 导入matplotlib库\n",
    "import matplotlib.pyplot as plt"
   ]
  },
  {
   "cell_type": "code",
   "execution_count": 2,
   "id": "49811d55-eb57-44a9-beb4-03166b503404",
   "metadata": {
    "execution": {
     "iopub.execute_input": "2023-04-08T01:41:31.117172Z",
     "iopub.status.busy": "2023-04-08T01:41:31.117172Z",
     "iopub.status.idle": "2023-04-08T01:41:31.161871Z",
     "shell.execute_reply": "2023-04-08T01:41:31.160857Z",
     "shell.execute_reply.started": "2023-04-08T01:41:31.117172Z"
    },
    "tags": []
   },
   "outputs": [],
   "source": [
    "# 定义一个函数，用来绘制康托集合的第n次迭代\n",
    "def cantor_set(n, x0=0, x1=1, y=0):\n",
    "    # 如果n为0，直接绘制一条水平线段\n",
    "    if n == 0:\n",
    "        plt.plot([x0, x1], [y, y], 'k-')\n",
    "    # 否则，递归地绘制左右两个三分之一的部分，y轴方向下移一点\n",
    "    else:\n",
    "        cantor_set(n-1, x0, x0+(x1-x0)/3, y-0.1)\n",
    "        cantor_set(n-1, x0+(x1-x0)*2/3, x1, y-0.1)"
   ]
  },
  {
   "cell_type": "code",
   "execution_count": 3,
   "id": "b7e18ef3-052f-4e82-a340-6c1380b1f37a",
   "metadata": {
    "execution": {
     "iopub.execute_input": "2023-04-08T01:41:35.770881Z",
     "iopub.status.busy": "2023-04-08T01:41:35.769881Z",
     "iopub.status.idle": "2023-04-08T01:41:37.429306Z",
     "shell.execute_reply": "2023-04-08T01:41:37.429306Z",
     "shell.execute_reply.started": "2023-04-08T01:41:35.770881Z"
    },
    "tags": []
   },
   "outputs": [
    {
     "data": {
      "image/png": "[encoded data removed]",
      "text/plain": [
       "<Figure size 640x480 with 1 Axes>"
      ]
     },
     "metadata": {},
     "output_type": "display_data"
    }
   ],
   "source": [
    "# 绘制康托集合的前五次迭代\n",
    "for i in range(5):\n",
    "    cantor_set(i)\n",
    "\n",
    "# 调整坐标轴范围和刻度\n",
    "plt.xlim(0, 1)\n",
    "plt.ylim(-0.5, 0.1)\n",
    "plt.yticks([])\n",
    "\n",
    "# 显示图形\n",
    "plt.show()"
   ]
  }
 ],
 "metadata": {
  "kernelspec": {
   "display_name": "Python 3 (ipykernel)",
   "language": "python",
   "name": "python3"
  },
  "language_info": {
   "codemirror_mode": {
    "name": "ipython",
    "version": 3
   },
   "file_extension": ".py",
   "mimetype": "text/x-python",
   "name": "python",
   "nbconvert_exporter": "python",
   "pygments_lexer": "ipython3",
   "version": "3.11.3"
  },
  "toc-autonumbering": true
 },
 "nbformat": 4,
 "nbformat_minor": 5
}
