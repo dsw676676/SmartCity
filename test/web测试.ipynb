{
 "cells": [
  {
   "cell_type": "markdown",
   "id": "a80af273-f82b-4432-865a-5fd8fdc4b185",
   "metadata": {},
   "source": [
    "# web测试文档\n",
    "\n",
    "> 片段查看：运行即可\n",
    "> \n",
    "> 总体查看：http://localhost:8888/voila"
   ]
  },
  {
   "cell_type": "code",
   "execution_count": 1,
   "id": "b7779f0b-c2b5-4d8a-9d79-7e8d8a975fb2",
   "metadata": {
    "execution": {
     "iopub.execute_input": "2023-04-07T16:38:55.929156Z",
     "iopub.status.busy": "2023-04-07T16:38:55.929156Z",
     "iopub.status.idle": "2023-04-07T16:38:58.351725Z",
     "shell.execute_reply": "2023-04-07T16:38:58.351725Z",
     "shell.execute_reply.started": "2023-04-07T16:38:55.929156Z"
    },
    "tags": []
   },
   "outputs": [],
   "source": [
    "%matplotlib widget\n",
    "import ipywidgets as widgets\n",
    "import pandas as pd\n",
    "import matplotlib.pyplot as plt"
   ]
  },
  {
   "cell_type": "markdown",
   "id": "6a41c404-af05-49d5-9a99-0d606763a536",
   "metadata": {
    "tags": []
   },
   "source": [
    "## 滑块运算"
   ]
  },
  {
   "cell_type": "code",
   "execution_count": 2,
   "id": "6308bf17-143f-4a50-b649-b2e3df179a86",
   "metadata": {
    "execution": {
     "iopub.execute_input": "2023-04-07T16:38:58.351725Z",
     "iopub.status.busy": "2023-04-07T16:38:58.351725Z",
     "iopub.status.idle": "2023-04-07T16:38:58.373040Z",
     "shell.execute_reply": "2023-04-07T16:38:58.372032Z",
     "shell.execute_reply.started": "2023-04-07T16:38:58.351725Z"
    },
    "tags": []
   },
   "outputs": [
    {
     "data": {
      "application/vnd.jupyter.widget-view+json": {
       "model_id": "47430d4675614c2fb10b33eca8c10699",
       "version_major": 2,
       "version_minor": 0
      },
      "text/plain": [
       "VBox(children=(IntSlider(value=4, description='$x$', max=10, min=1), FloatText(value=16.0, description='$x^2$'…"
      ]
     },
     "execution_count": 2,
     "metadata": {},
     "output_type": "execute_result"
    }
   ],
   "source": [
    "# slider = widgets.FloatSlider(description='$x$')\n",
    "slider = widgets.IntSlider(min=1,max=10,step=1,description='$x$')\n",
    "text = widgets.FloatText(disabled=True, description='$x^2$')\n",
    "\n",
    "def compute(*ignore):\n",
    "    text.value = str(slider.value ** 2)\n",
    "\n",
    "slider.observe(compute, 'value')\n",
    "\n",
    "slider.value = 4\n",
    "\n",
    "widgets.VBox([slider, text])"
   ]
  },
  {
   "cell_type": "code",
   "execution_count": 3,
   "id": "7db67580-b8e7-41e4-a603-0173493ad951",
   "metadata": {
    "execution": {
     "iopub.execute_input": "2023-04-07T16:38:58.376040Z",
     "iopub.status.busy": "2023-04-07T16:38:58.375040Z",
     "iopub.status.idle": "2023-04-07T16:38:59.850157Z",
     "shell.execute_reply": "2023-04-07T16:38:59.849033Z",
     "shell.execute_reply.started": "2023-04-07T16:38:58.376040Z"
    },
    "tags": []
   },
   "outputs": [
    {
     "data": {
      "text/html": [
       "<div>\n",
       "<style scoped>\n",
       "    .dataframe tbody tr th:only-of-type {\n",
       "        vertical-align: middle;\n",
       "    }\n",
       "\n",
       "    .dataframe tbody tr th {\n",
       "        vertical-align: top;\n",
       "    }\n",
       "\n",
       "    .dataframe thead th {\n",
       "        text-align: right;\n",
       "    }\n",
       "</style>\n",
       "<table border=\"1\" class=\"dataframe\">\n",
       "  <thead>\n",
       "    <tr style=\"text-align: right;\">\n",
       "      <th></th>\n",
       "      <th>sepal_length</th>\n",
       "      <th>sepal_width</th>\n",
       "      <th>petal_length</th>\n",
       "      <th>petal_width</th>\n",
       "      <th>species</th>\n",
       "    </tr>\n",
       "  </thead>\n",
       "  <tbody>\n",
       "    <tr>\n",
       "      <th>0</th>\n",
       "      <td>5.1</td>\n",
       "      <td>3.5</td>\n",
       "      <td>1.4</td>\n",
       "      <td>0.2</td>\n",
       "      <td>setosa</td>\n",
       "    </tr>\n",
       "    <tr>\n",
       "      <th>1</th>\n",
       "      <td>4.9</td>\n",
       "      <td>3.0</td>\n",
       "      <td>1.4</td>\n",
       "      <td>0.2</td>\n",
       "      <td>setosa</td>\n",
       "    </tr>\n",
       "    <tr>\n",
       "      <th>2</th>\n",
       "      <td>4.7</td>\n",
       "      <td>3.2</td>\n",
       "      <td>1.3</td>\n",
       "      <td>0.2</td>\n",
       "      <td>setosa</td>\n",
       "    </tr>\n",
       "    <tr>\n",
       "      <th>3</th>\n",
       "      <td>4.6</td>\n",
       "      <td>3.1</td>\n",
       "      <td>1.5</td>\n",
       "      <td>0.2</td>\n",
       "      <td>setosa</td>\n",
       "    </tr>\n",
       "    <tr>\n",
       "      <th>4</th>\n",
       "      <td>5.0</td>\n",
       "      <td>3.6</td>\n",
       "      <td>1.4</td>\n",
       "      <td>0.2</td>\n",
       "      <td>setosa</td>\n",
       "    </tr>\n",
       "    <tr>\n",
       "      <th>...</th>\n",
       "      <td>...</td>\n",
       "      <td>...</td>\n",
       "      <td>...</td>\n",
       "      <td>...</td>\n",
       "      <td>...</td>\n",
       "    </tr>\n",
       "    <tr>\n",
       "      <th>145</th>\n",
       "      <td>6.7</td>\n",
       "      <td>3.0</td>\n",
       "      <td>5.2</td>\n",
       "      <td>2.3</td>\n",
       "      <td>virginica</td>\n",
       "    </tr>\n",
       "    <tr>\n",
       "      <th>146</th>\n",
       "      <td>6.3</td>\n",
       "      <td>2.5</td>\n",
       "      <td>5.0</td>\n",
       "      <td>1.9</td>\n",
       "      <td>virginica</td>\n",
       "    </tr>\n",
       "    <tr>\n",
       "      <th>147</th>\n",
       "      <td>6.5</td>\n",
       "      <td>3.0</td>\n",
       "      <td>5.2</td>\n",
       "      <td>2.0</td>\n",
       "      <td>virginica</td>\n",
       "    </tr>\n",
       "    <tr>\n",
       "      <th>148</th>\n",
       "      <td>6.2</td>\n",
       "      <td>3.4</td>\n",
       "      <td>5.4</td>\n",
       "      <td>2.3</td>\n",
       "      <td>virginica</td>\n",
       "    </tr>\n",
       "    <tr>\n",
       "      <th>149</th>\n",
       "      <td>5.9</td>\n",
       "      <td>3.0</td>\n",
       "      <td>5.1</td>\n",
       "      <td>1.8</td>\n",
       "      <td>virginica</td>\n",
       "    </tr>\n",
       "  </tbody>\n",
       "</table>\n",
       "<p>150 rows × 5 columns</p>\n",
       "</div>"
      ],
      "text/plain": [
       "     sepal_length  sepal_width  petal_length  petal_width    species\n",
       "0             5.1          3.5           1.4          0.2     setosa\n",
       "1             4.9          3.0           1.4          0.2     setosa\n",
       "2             4.7          3.2           1.3          0.2     setosa\n",
       "3             4.6          3.1           1.5          0.2     setosa\n",
       "4             5.0          3.6           1.4          0.2     setosa\n",
       "..            ...          ...           ...          ...        ...\n",
       "145           6.7          3.0           5.2          2.3  virginica\n",
       "146           6.3          2.5           5.0          1.9  virginica\n",
       "147           6.5          3.0           5.2          2.0  virginica\n",
       "148           6.2          3.4           5.4          2.3  virginica\n",
       "149           5.9          3.0           5.1          1.8  virginica\n",
       "\n",
       "[150 rows x 5 columns]"
      ]
     },
     "execution_count": 3,
     "metadata": {},
     "output_type": "execute_result"
    }
   ],
   "source": [
    "iris = pd.read_csv('https://raw.githubusercontent.com/mwaskom/seaborn-data/master/iris.csv')\n",
    "iris"
   ]
  },
  {
   "cell_type": "markdown",
   "id": "d6daf3df-d9b2-4e16-ba56-1aedc7db8496",
   "metadata": {
    "tags": []
   },
   "source": [
    "## 计算器"
   ]
  },
  {
   "cell_type": "code",
   "execution_count": 4,
   "id": "c46aa544-71ea-48fe-938a-212b79fa0368",
   "metadata": {
    "execution": {
     "iopub.execute_input": "2023-04-07T16:38:59.851536Z",
     "iopub.status.busy": "2023-04-07T16:38:59.851394Z",
     "iopub.status.idle": "2023-04-07T16:38:59.874758Z",
     "shell.execute_reply": "2023-04-07T16:38:59.874758Z",
     "shell.execute_reply.started": "2023-04-07T16:38:59.851536Z"
    },
    "tags": []
   },
   "outputs": [
    {
     "data": {
      "application/vnd.jupyter.widget-view+json": {
       "model_id": "e589f73e14f0495c88479780586dba3c",
       "version_major": 2,
       "version_minor": 0
      },
      "text/plain": [
       "VBox(children=(HBox(children=(Text(value='', description='A='), Label(value='+', layout=Layout(left='30px')), …"
      ]
     },
     "execution_count": 4,
     "metadata": {},
     "output_type": "execute_result"
    }
   ],
   "source": [
    "import time\n",
    "# 输入：窗格与文本定义\n",
    "input_text = widgets.Text(description='A=') #输入窗格\n",
    "input_text2 = widgets.Text(description='B=') #输入窗格\n",
    "plus_text = widgets.Label(value='+', layout=widgets.Layout(left='30px')) #描述文本\n",
    "submit_button = widgets.Button(\n",
    "    description='A + B = ?',\n",
    "    layout=widgets.Layout(left='220px')) #按键窗格\n",
    "html = widgets.HTML(value='') #输出窗格\n",
    "\n",
    "# 处理：算法赋予按键\n",
    "def submit(*ignore):\n",
    "    a = input_text.value\n",
    "    b = input_text2.value\n",
    "    for i in range(int(a)+int(b)): #读条器\n",
    "        time.sleep(0.5)\n",
    "        html.value = str(i+1)\n",
    "\n",
    "submit_button.on_click(submit)\n",
    "\n",
    "# 输出：排版布局\n",
    "widgets.VBox([ #横布局\n",
    "    widgets.HBox([ #纵布局\n",
    "        input_text,\n",
    "        plus_text,\n",
    "        input_text2\n",
    "    ]),\n",
    "    submit_button,\n",
    "    html\n",
    "])"
   ]
  },
  {
   "cell_type": "markdown",
   "id": "c3274dd4-bab9-4d8c-aa3d-5e27c944ae3e",
   "metadata": {},
   "source": [
    "## 叠图计算"
   ]
  },
  {
   "cell_type": "code",
   "execution_count": 5,
   "id": "43d7d5a7-3abb-4459-94da-e9afcb047420",
   "metadata": {
    "execution": {
     "iopub.execute_input": "2023-04-07T16:38:59.874758Z",
     "iopub.status.busy": "2023-04-07T16:38:59.874758Z",
     "iopub.status.idle": "2023-04-07T16:38:59.881895Z",
     "shell.execute_reply": "2023-04-07T16:38:59.880885Z",
     "shell.execute_reply.started": "2023-04-07T16:38:59.874758Z"
    }
   },
   "outputs": [],
   "source": [
    "# 输入：个性偏好\n",
    "# input_text11 = widgets.IntSlider(min=1,max=5,step=1,description=\"坡度：偏好\")\n",
    "# input_text12 = widgets.IntSlider(min=1,max=5,step=1,description=\"权重\")\n",
    "# input_text21 = widgets.IntSlider(min=1,max=5,step=1,description=\"坡向：偏好\")\n",
    "# input_text22 = widgets.IntSlider(min=1,max=5,step=1,description=\"权重\")\n",
    "# submit_button = widgets.Button(\n",
    "#     description='评定',\n",
    "#     layout=widgets.Layout(left='220px'))\n",
    "\n",
    "# # 处理：偏好叠图\n",
    "# def submit():\n",
    "#     v_11 = int(input_text11.value)\n",
    "#     v_12 = int(input_text12.value)\n",
    "#     v_21 = int(input_text21.value)\n",
    "#     v_22 = int(input_text22.value)\n",
    "    \n",
    "\n",
    "# 输出：排版布局\n",
    "# widgets.VBox([\n",
    "#     widgets.HBox([input_text11,input_text12]),\n",
    "#     widgets.HBox([input_text21,input_text22]),\n",
    "#     submit_button\n",
    "# ])"
   ]
  },
  {
   "cell_type": "code",
   "execution_count": 6,
   "id": "89144959-501d-4b64-ab1d-03879ab1a261",
   "metadata": {
    "execution": {
     "iopub.execute_input": "2023-04-07T16:38:59.882410Z",
     "iopub.status.busy": "2023-04-07T16:38:59.882410Z",
     "iopub.status.idle": "2023-04-07T16:39:00.259180Z",
     "shell.execute_reply": "2023-04-07T16:39:00.258168Z",
     "shell.execute_reply.started": "2023-04-07T16:38:59.882410Z"
    },
    "tags": []
   },
   "outputs": [
    {
     "data": {
      "text/plain": [
       "<matplotlib.collections.PathCollection at 0x240e89bac10>"
      ]
     },
     "execution_count": 6,
     "metadata": {},
     "output_type": "execute_result"
    },
    {
     "data": {
      "application/vnd.jupyter.widget-view+json": {
       "model_id": "68ff8b26e8754a95951d0f5d74a2fdf5",
       "version_major": 2,
       "version_minor": 0
      },
      "image/png": "[encoded data removed]",
      "text/html": [
       "\n",
       "            <div style=\"display: inline-block;\">\n",
       "                <div class=\"jupyter-widgets widget-label\" style=\"text-align: center;\">\n",
       "                    Figure\n",
       "                </div>\n",
       "                <img src='data:image/png;base64,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' width=700.0/>\n",
       "            </div>\n",
       "        "
      ],
      "text/plain": [
       "Canvas(toolbar=Toolbar(toolitems=[('Home', 'Reset original view', 'home', 'home'), ('Back', 'Back to previous …"
      ]
     },
     "metadata": {},
     "output_type": "display_data"
    }
   ],
   "source": [
    "fig = plt.figure(figsize=(7,3))\n",
    "\n",
    "plt.subplot(121)\n",
    "plt.plot([1,2],[3,4])\n",
    "\n",
    "plt.subplot(122)\n",
    "plt.scatter([1,2],[3,4])"
   ]
  }
 ],
 "metadata": {
  "kernelspec": {
   "display_name": "Python 3 (ipykernel)",
   "language": "python",
   "name": "python3"
  },
  "language_info": {
   "codemirror_mode": {
    "name": "ipython",
    "version": 3
   },
   "file_extension": ".py",
   "mimetype": "text/x-python",
   "name": "python",
   "nbconvert_exporter": "python",
   "pygments_lexer": "ipython3",
   "version": "3.11.3"
  },
  "toc-autonumbering": true,
  "toc-showcode": false,
  "varInspector": {
   "cols": {
    "lenName": 16,
    "lenType": 16,
    "lenVar": 40
   },
   "kernels_config": {
    "python": {
     "delete_cmd_postfix": "",
     "delete_cmd_prefix": "del ",
     "library": "var_list.py",
     "varRefreshCmd": "print(var_dic_list())"
    },
    "r": {
     "delete_cmd_postfix": ") ",
     "delete_cmd_prefix": "rm(",
     "library": "var_list.r",
     "varRefreshCmd": "cat(var_dic_list()) "
    }
   },
   "types_to_exclude": [
    "module",
    "function",
    "builtin_function_or_method",
    "instance",
    "_Feature"
   ],
   "window_display": false
  }
 },
 "nbformat": 4,
 "nbformat_minor": 5
}
